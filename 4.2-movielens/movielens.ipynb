{
 "cells": [
  {
   "cell_type": "code",
   "execution_count": 58,
   "metadata": {},
   "outputs": [
    {
     "name": "stdout",
     "output_type": "stream",
     "text": [
      "dataset.csv     \u001b[1m\u001b[36mmovielens\u001b[m\u001b[m       \u001b[1m\u001b[36mpredictions\u001b[m\u001b[m\r\n",
      "\u001b[1m\u001b[36mmodels\u001b[m\u001b[m          movielens.ipynb \u001b[1m\u001b[36msplits\u001b[m\u001b[m\r\n"
     ]
    }
   ],
   "source": [
    "!ls"
   ]
  },
  {
   "cell_type": "code",
   "execution_count": 59,
   "metadata": {},
   "outputs": [
    {
     "name": "stdout",
     "output_type": "stream",
     "text": [
      "README.txt    movielens.csv ratings.csv\r\n",
      "links.csv     movies.csv    tags.csv\r\n"
     ]
    }
   ],
   "source": [
    "!ls movielens/ml-latest-small/"
   ]
  },
  {
   "cell_type": "code",
   "execution_count": 60,
   "metadata": {
    "collapsed": true
   },
   "outputs": [],
   "source": [
    "import pandas as pd\n",
    "import numpy as np"
   ]
  },
  {
   "cell_type": "code",
   "execution_count": 61,
   "metadata": {
    "collapsed": true
   },
   "outputs": [],
   "source": [
    "# plots snippet\n",
    "from matplotlib import pyplot as plt\n",
    "import seaborn as sns\n",
    "from pylab import rcParams\n",
    "\n",
    "%config InlineBackend.figure_format = 'retina'\n",
    "%matplotlib inline\n",
    "%config InlineBackend.figure_format = 'png'\n",
    "rcParams['figure.figsize'] = (16, 6)"
   ]
  },
  {
   "cell_type": "code",
   "execution_count": 62,
   "metadata": {},
   "outputs": [
    {
     "data": {
      "text/html": [
       "<div>\n",
       "<style>\n",
       "    .dataframe thead tr:only-child th {\n",
       "        text-align: right;\n",
       "    }\n",
       "\n",
       "    .dataframe thead th {\n",
       "        text-align: left;\n",
       "    }\n",
       "\n",
       "    .dataframe tbody tr th {\n",
       "        vertical-align: top;\n",
       "    }\n",
       "</style>\n",
       "<table border=\"1\" class=\"dataframe\">\n",
       "  <thead>\n",
       "    <tr style=\"text-align: right;\">\n",
       "      <th></th>\n",
       "      <th>userId</th>\n",
       "      <th>movieId</th>\n",
       "      <th>rating</th>\n",
       "      <th>timestamp</th>\n",
       "    </tr>\n",
       "  </thead>\n",
       "  <tbody>\n",
       "    <tr>\n",
       "      <th>0</th>\n",
       "      <td>1</td>\n",
       "      <td>31</td>\n",
       "      <td>2.5</td>\n",
       "      <td>1260759144</td>\n",
       "    </tr>\n",
       "    <tr>\n",
       "      <th>1</th>\n",
       "      <td>1</td>\n",
       "      <td>1029</td>\n",
       "      <td>3.0</td>\n",
       "      <td>1260759179</td>\n",
       "    </tr>\n",
       "    <tr>\n",
       "      <th>2</th>\n",
       "      <td>1</td>\n",
       "      <td>1061</td>\n",
       "      <td>3.0</td>\n",
       "      <td>1260759182</td>\n",
       "    </tr>\n",
       "    <tr>\n",
       "      <th>3</th>\n",
       "      <td>1</td>\n",
       "      <td>1129</td>\n",
       "      <td>2.0</td>\n",
       "      <td>1260759185</td>\n",
       "    </tr>\n",
       "    <tr>\n",
       "      <th>4</th>\n",
       "      <td>1</td>\n",
       "      <td>1172</td>\n",
       "      <td>4.0</td>\n",
       "      <td>1260759205</td>\n",
       "    </tr>\n",
       "  </tbody>\n",
       "</table>\n",
       "</div>"
      ],
      "text/plain": [
       "   userId  movieId  rating   timestamp\n",
       "0       1       31     2.5  1260759144\n",
       "1       1     1029     3.0  1260759179\n",
       "2       1     1061     3.0  1260759182\n",
       "3       1     1129     2.0  1260759185\n",
       "4       1     1172     4.0  1260759205"
      ]
     },
     "execution_count": 62,
     "metadata": {},
     "output_type": "execute_result"
    }
   ],
   "source": [
    "ratings = pd.read_csv('movielens/ml-latest-small/ratings.csv')\n",
    "ratings.head()"
   ]
  },
  {
   "cell_type": "code",
   "execution_count": 63,
   "metadata": {},
   "outputs": [
    {
     "data": {
      "text/html": [
       "<div>\n",
       "<style>\n",
       "    .dataframe thead tr:only-child th {\n",
       "        text-align: right;\n",
       "    }\n",
       "\n",
       "    .dataframe thead th {\n",
       "        text-align: left;\n",
       "    }\n",
       "\n",
       "    .dataframe tbody tr th {\n",
       "        vertical-align: top;\n",
       "    }\n",
       "</style>\n",
       "<table border=\"1\" class=\"dataframe\">\n",
       "  <thead>\n",
       "    <tr style=\"text-align: right;\">\n",
       "      <th></th>\n",
       "      <th>userId</th>\n",
       "      <th>movieId</th>\n",
       "      <th>rating</th>\n",
       "      <th>timestamp</th>\n",
       "    </tr>\n",
       "  </thead>\n",
       "  <tbody>\n",
       "    <tr>\n",
       "      <th>count</th>\n",
       "      <td>100004.000000</td>\n",
       "      <td>100004.000000</td>\n",
       "      <td>100004.000000</td>\n",
       "      <td>1.000040e+05</td>\n",
       "    </tr>\n",
       "    <tr>\n",
       "      <th>mean</th>\n",
       "      <td>347.011310</td>\n",
       "      <td>12548.664363</td>\n",
       "      <td>3.543608</td>\n",
       "      <td>1.129639e+09</td>\n",
       "    </tr>\n",
       "    <tr>\n",
       "      <th>std</th>\n",
       "      <td>195.163838</td>\n",
       "      <td>26369.198969</td>\n",
       "      <td>1.058064</td>\n",
       "      <td>1.916858e+08</td>\n",
       "    </tr>\n",
       "    <tr>\n",
       "      <th>min</th>\n",
       "      <td>1.000000</td>\n",
       "      <td>1.000000</td>\n",
       "      <td>0.500000</td>\n",
       "      <td>7.896520e+08</td>\n",
       "    </tr>\n",
       "    <tr>\n",
       "      <th>25%</th>\n",
       "      <td>182.000000</td>\n",
       "      <td>1028.000000</td>\n",
       "      <td>3.000000</td>\n",
       "      <td>9.658478e+08</td>\n",
       "    </tr>\n",
       "    <tr>\n",
       "      <th>50%</th>\n",
       "      <td>367.000000</td>\n",
       "      <td>2406.500000</td>\n",
       "      <td>4.000000</td>\n",
       "      <td>1.110422e+09</td>\n",
       "    </tr>\n",
       "    <tr>\n",
       "      <th>75%</th>\n",
       "      <td>520.000000</td>\n",
       "      <td>5418.000000</td>\n",
       "      <td>4.000000</td>\n",
       "      <td>1.296192e+09</td>\n",
       "    </tr>\n",
       "    <tr>\n",
       "      <th>max</th>\n",
       "      <td>671.000000</td>\n",
       "      <td>163949.000000</td>\n",
       "      <td>5.000000</td>\n",
       "      <td>1.476641e+09</td>\n",
       "    </tr>\n",
       "  </tbody>\n",
       "</table>\n",
       "</div>"
      ],
      "text/plain": [
       "              userId        movieId         rating     timestamp\n",
       "count  100004.000000  100004.000000  100004.000000  1.000040e+05\n",
       "mean      347.011310   12548.664363       3.543608  1.129639e+09\n",
       "std       195.163838   26369.198969       1.058064  1.916858e+08\n",
       "min         1.000000       1.000000       0.500000  7.896520e+08\n",
       "25%       182.000000    1028.000000       3.000000  9.658478e+08\n",
       "50%       367.000000    2406.500000       4.000000  1.110422e+09\n",
       "75%       520.000000    5418.000000       4.000000  1.296192e+09\n",
       "max       671.000000  163949.000000       5.000000  1.476641e+09"
      ]
     },
     "execution_count": 63,
     "metadata": {},
     "output_type": "execute_result"
    }
   ],
   "source": [
    "ratings.describe()"
   ]
  },
  {
   "cell_type": "code",
   "execution_count": 64,
   "metadata": {},
   "outputs": [
    {
     "name": "stdout",
     "output_type": "stream",
     "text": [
      "<class 'pandas.core.frame.DataFrame'>\n",
      "RangeIndex: 100004 entries, 0 to 100003\n",
      "Data columns (total 4 columns):\n",
      "userId       100004 non-null int64\n",
      "movieId      100004 non-null int64\n",
      "rating       100004 non-null float64\n",
      "timestamp    100004 non-null int64\n",
      "dtypes: float64(1), int64(3)\n",
      "memory usage: 3.1 MB\n"
     ]
    }
   ],
   "source": [
    "ratings.info()"
   ]
  },
  {
   "cell_type": "code",
   "execution_count": 65,
   "metadata": {
    "collapsed": true
   },
   "outputs": [],
   "source": [
    "ratings[\"movie_id\"] = ratings[\"movieId\"].astype(\"category\").cat.codes.copy() + 1\n",
    "ratings_for_mrec = ratings[[\"userId\", \"movie_id\", \"rating\"]]"
   ]
  },
  {
   "cell_type": "code",
   "execution_count": 66,
   "metadata": {},
   "outputs": [
    {
     "data": {
      "text/html": [
       "<div>\n",
       "<style>\n",
       "    .dataframe thead tr:only-child th {\n",
       "        text-align: right;\n",
       "    }\n",
       "\n",
       "    .dataframe thead th {\n",
       "        text-align: left;\n",
       "    }\n",
       "\n",
       "    .dataframe tbody tr th {\n",
       "        vertical-align: top;\n",
       "    }\n",
       "</style>\n",
       "<table border=\"1\" class=\"dataframe\">\n",
       "  <thead>\n",
       "    <tr style=\"text-align: right;\">\n",
       "      <th></th>\n",
       "      <th>userId</th>\n",
       "      <th>movie_id</th>\n",
       "      <th>rating</th>\n",
       "    </tr>\n",
       "  </thead>\n",
       "  <tbody>\n",
       "    <tr>\n",
       "      <th>count</th>\n",
       "      <td>100004.000000</td>\n",
       "      <td>100004.000000</td>\n",
       "      <td>100004.000000</td>\n",
       "    </tr>\n",
       "    <tr>\n",
       "      <th>mean</th>\n",
       "      <td>347.011310</td>\n",
       "      <td>2692.887445</td>\n",
       "      <td>3.543608</td>\n",
       "    </tr>\n",
       "    <tr>\n",
       "      <th>std</th>\n",
       "      <td>195.163838</td>\n",
       "      <td>2375.936209</td>\n",
       "      <td>1.058064</td>\n",
       "    </tr>\n",
       "    <tr>\n",
       "      <th>min</th>\n",
       "      <td>1.000000</td>\n",
       "      <td>1.000000</td>\n",
       "      <td>0.500000</td>\n",
       "    </tr>\n",
       "    <tr>\n",
       "      <th>25%</th>\n",
       "      <td>182.000000</td>\n",
       "      <td>833.000000</td>\n",
       "      <td>3.000000</td>\n",
       "    </tr>\n",
       "    <tr>\n",
       "      <th>50%</th>\n",
       "      <td>367.000000</td>\n",
       "      <td>1917.500000</td>\n",
       "      <td>4.000000</td>\n",
       "    </tr>\n",
       "    <tr>\n",
       "      <th>75%</th>\n",
       "      <td>520.000000</td>\n",
       "      <td>4122.000000</td>\n",
       "      <td>4.000000</td>\n",
       "    </tr>\n",
       "    <tr>\n",
       "      <th>max</th>\n",
       "      <td>671.000000</td>\n",
       "      <td>9066.000000</td>\n",
       "      <td>5.000000</td>\n",
       "    </tr>\n",
       "  </tbody>\n",
       "</table>\n",
       "</div>"
      ],
      "text/plain": [
       "              userId       movie_id         rating\n",
       "count  100004.000000  100004.000000  100004.000000\n",
       "mean      347.011310    2692.887445       3.543608\n",
       "std       195.163838    2375.936209       1.058064\n",
       "min         1.000000       1.000000       0.500000\n",
       "25%       182.000000     833.000000       3.000000\n",
       "50%       367.000000    1917.500000       4.000000\n",
       "75%       520.000000    4122.000000       4.000000\n",
       "max       671.000000    9066.000000       5.000000"
      ]
     },
     "execution_count": 66,
     "metadata": {},
     "output_type": "execute_result"
    }
   ],
   "source": [
    "ratings_for_mrec.describe()"
   ]
  },
  {
   "cell_type": "code",
   "execution_count": 67,
   "metadata": {},
   "outputs": [
    {
     "data": {
      "text/plain": [
       "<matplotlib.axes._subplots.AxesSubplot at 0x112b48860>"
      ]
     },
     "execution_count": 67,
     "metadata": {},
     "output_type": "execute_result"
    },
    {
     "data": {
      "image/png": "[encoded data removed]",
      "text/plain": [
       "<matplotlib.figure.Figure at 0x1132d7e10>"
      ]
     },
     "metadata": {},
     "output_type": "display_data"
    }
   ],
   "source": [
    "ratings_for_mrec['rating'].hist(bins=9)"
   ]
  },
  {
   "cell_type": "markdown",
   "metadata": {},
   "source": [
    "# Подгатавливаем датасет для обучения"
   ]
  },
  {
   "cell_type": "code",
   "execution_count": 68,
   "metadata": {
    "collapsed": true
   },
   "outputs": [],
   "source": [
    "ratings_for_mrec.to_csv('dataset.csv', header=False, index=False)"
   ]
  },
  {
   "cell_type": "code",
   "execution_count": 69,
   "metadata": {
    "collapsed": true
   },
   "outputs": [],
   "source": [
    "from mrec.evaluation.preprocessing import TSVParser, SplitCreator\n",
    "from mrec.examples.filename_conventions import get_sortedfile, get_splitfile\n",
    "from mrec.examples.prepare import Processor\n",
    "import subprocess\n",
    "import os"
   ]
  },
  {
   "cell_type": "code",
   "execution_count": 70,
   "metadata": {},
   "outputs": [
    {
     "name": "stdout",
     "output_type": "stream",
     "text": [
      "sorting input data...\n",
      "creating split 0: /Users/a.burtsev/Develop/netology-practice/4.2-movielens/splits/dataset.csv.train.0 /Users/a.burtsev/Develop/netology-practice/4.2-movielens/splits/dataset.csv.test.0\n",
      "creating split 1: /Users/a.burtsev/Develop/netology-practice/4.2-movielens/splits/dataset.csv.train.1 /Users/a.burtsev/Develop/netology-practice/4.2-movielens/splits/dataset.csv.test.1\n",
      "creating split 2: /Users/a.burtsev/Develop/netology-practice/4.2-movielens/splits/dataset.csv.train.2 /Users/a.burtsev/Develop/netology-practice/4.2-movielens/splits/dataset.csv.test.2\n",
      "creating split 3: /Users/a.burtsev/Develop/netology-practice/4.2-movielens/splits/dataset.csv.train.3 /Users/a.burtsev/Develop/netology-practice/4.2-movielens/splits/dataset.csv.test.3\n",
      "creating split 4: /Users/a.burtsev/Develop/netology-practice/4.2-movielens/splits/dataset.csv.train.4 /Users/a.burtsev/Develop/netology-practice/4.2-movielens/splits/dataset.csv.test.4\n",
      "cleaning up...\n",
      "done\n"
     ]
    }
   ],
   "source": [
    "dataset = os.path.abspath('dataset.csv')\n",
    "splits_outdir = os.path.abspath('splits')\n",
    "\n",
    "print('sorting input data...')\n",
    "infile = get_sortedfile(dataset, splits_outdir)\n",
    "subprocess.check_call(['mkdir', '-p', splits_outdir])\n",
    "subprocess.check_call(['sort', '-k1', '-n', dataset], stdout=open(infile, 'w'))\n",
    "\n",
    "parser = TSVParser(thresh=4, delimiter=',', binarize=True)\n",
    "splitter = SplitCreator(test_size=0.5)\n",
    "processor = Processor(splitter, parser, min_items_per_user=10)\n",
    "\n",
    "for i in range(5):\n",
    "    trainfile = get_splitfile(dataset, splits_outdir, 'train', i)\n",
    "    testfile = get_splitfile(dataset, splits_outdir, 'test', i)\n",
    "\n",
    "    print('creating split {0}: {1} {2}'.format(i, trainfile, testfile))\n",
    "    infile_, trainfile_, testfile_ = open(infile), open(trainfile, 'w'), open(testfile, 'w')\n",
    "    processor.create_split(infile_, trainfile_, testfile_)\n",
    "    infile_.close()\n",
    "    trainfile_.close()\n",
    "    testfile_.close()\n",
    "\n",
    "    too_few_items = processor.get_too_few_items()\n",
    "    if too_few_items:\n",
    "        print('skipped {0} users with less than {1} ratings'.format(too_few_items, 10))\n",
    "        \n",
    "print('cleaning up...')\n",
    "subprocess.check_call(['rm', infile])\n",
    "print('done')"
   ]
  },
  {
   "cell_type": "markdown",
   "metadata": {},
   "source": [
    "# Обучаемся"
   ]
  },
  {
   "cell_type": "code",
   "execution_count": 71,
   "metadata": {
    "collapsed": true
   },
   "outputs": [],
   "source": [
    "import glob\n",
    "trainfiles = glob.glob('splits/dataset.csv.train.*')"
   ]
  },
  {
   "cell_type": "code",
   "execution_count": 72,
   "metadata": {
    "collapsed": true
   },
   "outputs": [],
   "source": [
    "from mrec.examples.filename_conventions import *\n",
    "from mrec.parallel.item_similarity import ItemSimilarityRunner\n",
    "from ipyparallel import Client\n",
    "from multiprocessing.pool import Pool\n",
    "from multiprocessing import cpu_count"
   ]
  },
  {
   "cell_type": "code",
   "execution_count": 73,
   "metadata": {
    "collapsed": true
   },
   "outputs": [],
   "source": [
    "class MrecPool(Pool):\n",
    "    def map_async(self, process, tasks, retries=2):\n",
    "        return super(MrecPool, self).map_async(process, tasks)\n",
    "    \n",
    "cpus = cpu_count()\n",
    "pool = MrecPool(cpus)"
   ]
  },
  {
   "cell_type": "markdown",
   "metadata": {},
   "source": [
    "## Popularity"
   ]
  },
  {
   "cell_type": "code",
   "execution_count": 74,
   "metadata": {
    "collapsed": true
   },
   "outputs": [],
   "source": [
    "from mrec.popularity import ItemPopularityRecommender\n",
    "from mrec import load_fast_sparse_matrix, save_recommender"
   ]
  },
  {
   "cell_type": "code",
   "execution_count": 75,
   "metadata": {},
   "outputs": [
    {
     "name": "stdout",
     "output_type": "stream",
     "text": [
      "processing splits/dataset.csv.train.0...\n",
      "processing splits/dataset.csv.train.1...\n",
      "processing splits/dataset.csv.train.4...\n",
      "processing splits/dataset.csv.train.3...\n",
      "processing splits/dataset.csv.train.2...\n",
      "done\n"
     ]
    }
   ],
   "source": [
    "train_outdir = os.path.abspath('models/popularity')\n",
    "subprocess.check_call(['mkdir', '-p', train_outdir])\n",
    "\n",
    "for trainfile in trainfiles:\n",
    "    print('processing {0}...'.format(trainfile))\n",
    "    dataset = load_fast_sparse_matrix('tsv', trainfile)\n",
    "    model = ItemPopularityRecommender()\n",
    "    model.fit(dataset)\n",
    "    modelfile = get_modelfile(trainfile, train_outdir)\n",
    "    save_recommender(model, modelfile)\n",
    "\n",
    "print('done')"
   ]
  },
  {
   "cell_type": "markdown",
   "metadata": {},
   "source": [
    "## KNN"
   ]
  },
  {
   "cell_type": "code",
   "execution_count": 76,
   "metadata": {
    "collapsed": true
   },
   "outputs": [],
   "source": [
    "from mrec.item_similarity.knn import CosineKNNRecommender, DotProductKNNRecommender"
   ]
  },
  {
   "cell_type": "code",
   "execution_count": 77,
   "metadata": {},
   "outputs": [
    {
     "name": "stdout",
     "output_type": "stream",
     "text": [
      "processing splits/dataset.csv.train.0...\n",
      "processing splits/dataset.csv.train.1...\n",
      "processing splits/dataset.csv.train.4...\n",
      "processing splits/dataset.csv.train.3...\n",
      "processing splits/dataset.csv.train.2...\n",
      "done\n"
     ]
    }
   ],
   "source": [
    "model = CosineKNNRecommender(k=100)\n",
    "train_outdir = os.path.abspath('models/knn')\n",
    "\n",
    "subprocess.check_call(['mkdir', '-p', train_outdir])\n",
    "\n",
    "for trainfile in trainfiles:\n",
    "    print('processing {0}...'.format(trainfile))\n",
    "    modelfile = get_modelfile(trainfile, train_outdir)\n",
    "    runner = ItemSimilarityRunner()\n",
    "    simsdir = get_simsdir(trainfile, train_outdir)\n",
    "    simsfile = get_simsfile(trainfile, train_outdir)\n",
    "    runner.run(pool, model, 'tsv', trainfile, cpus, simsdir, True, 100, simsfile, modelfile)\n",
    "\n",
    "print('done')"
   ]
  },
  {
   "cell_type": "markdown",
   "metadata": {},
   "source": [
    "## SLIM"
   ]
  },
  {
   "cell_type": "code",
   "execution_count": 78,
   "metadata": {
    "collapsed": true
   },
   "outputs": [],
   "source": [
    "from mrec.item_similarity.slim import SLIM"
   ]
  },
  {
   "cell_type": "code",
   "execution_count": 79,
   "metadata": {},
   "outputs": [
    {
     "name": "stdout",
     "output_type": "stream",
     "text": [
      "processing splits/dataset.csv.train.0...\n"
     ]
    },
    {
     "name": "stderr",
     "output_type": "stream",
     "text": [
      "/Users/a.burtsev/miniconda3/envs/netology/lib/python3.5/site-packages/sklearn/linear_model/stochastic_gradient.py:84: FutureWarning: max_iter and tol parameters have been added in <class 'sklearn.linear_model.stochastic_gradient.SGDRegressor'> in 0.19. If both are left unset, they default to max_iter=5 and tol=None. If tol is not None, max_iter defaults to max_iter=1000. From 0.21, default max_iter will be 1000, and default tol will be 1e-3.\n",
      "  \"and default tol will be 1e-3.\" % type(self), FutureWarning)\n"
     ]
    },
    {
     "name": "stdout",
     "output_type": "stream",
     "text": [
      "processing splits/dataset.csv.train.1...\n",
      "processing splits/dataset.csv.train.4...\n",
      "processing splits/dataset.csv.train.3...\n",
      "processing splits/dataset.csv.train.2...\n",
      "done\n"
     ]
    }
   ],
   "source": [
    "model=SLIM(model='sgd')\n",
    "train_outdir = os.path.abspath('models/slim')\n",
    "\n",
    "subprocess.check_call(['mkdir', '-p', train_outdir])\n",
    "\n",
    "for trainfile in trainfiles:\n",
    "    print('processing {0}...'.format(trainfile))\n",
    "    modelfile = get_modelfile(trainfile, train_outdir)\n",
    "    runner = ItemSimilarityRunner()\n",
    "    simsdir = get_simsdir(trainfile, train_outdir)\n",
    "    simsfile = get_simsfile(trainfile, train_outdir)\n",
    "    runner.run(pool, model, 'tsv', trainfile, cpus, simsdir, True, 100, simsfile, modelfile)\n",
    "\n",
    "print('done')"
   ]
  },
  {
   "cell_type": "markdown",
   "metadata": {},
   "source": [
    "# Получаем рекомендации"
   ]
  },
  {
   "cell_type": "code",
   "execution_count": 80,
   "metadata": {
    "collapsed": true
   },
   "outputs": [],
   "source": [
    "from mrec.evaluation.metrics import compute_main_metrics, compute_hit_rate\n",
    "from mrec.evaluation import Evaluator\n",
    "from mrec.evaluation.metrics import print_report\n",
    "from mrec.examples.predict import process\n",
    "from collections import defaultdict\n",
    "from argparse import Namespace\n",
    "import psutil\n",
    "\n",
    "ONE_MB = 2 ** 20"
   ]
  },
  {
   "cell_type": "code",
   "execution_count": 81,
   "metadata": {},
   "outputs": [],
   "source": [
    "def make_predictions(modeldir, predict_outdir):\n",
    "    evaluator = Evaluator(compute_main_metrics, max_items=20)\n",
    "\n",
    "    descriptions = set()\n",
    "    all_metrics = defaultdict(list)\n",
    "\n",
    "    mb_per_task = psutil.virtual_memory().available / ONE_MB / (cpus + 1)\n",
    "\n",
    "    opts = Namespace(input_format='tsv',\n",
    "                     test_input_format='tsv',\n",
    "                     item_feature_format='tsv',\n",
    "                     outdir=predict_outdir,\n",
    "                     overwrite=False,\n",
    "                     mb_per_task=mb_per_task)\n",
    "\n",
    "    for trainfile in trainfiles:\n",
    "        print('processing {0}...'.format(trainfile))\n",
    "        modelfile = get_modelfile(trainfile, modeldir)\n",
    "        testfile = get_testfile(trainfile)\n",
    "        description, metrics = process(pool, opts, modelfile, trainfile, testfile, None, predict_outdir, evaluator)\n",
    "        descriptions.add(description)\n",
    "        if metrics is not None:\n",
    "            for m in metrics:\n",
    "                all_metrics[m].append(metrics[m])\n",
    "\n",
    "    description = ' AND '.join(descriptions)\n",
    "    if len(descriptions) > 1:\n",
    "        print('You are aggregating metrics from different models! {}'.format(description))\n",
    "\n",
    "    print_report([description], [all_metrics])"
   ]
  },
  {
   "cell_type": "markdown",
   "metadata": {},
   "source": [
    "## Popularity"
   ]
  },
  {
   "cell_type": "code",
   "execution_count": 82,
   "metadata": {},
   "outputs": [
    {
     "name": "stdout",
     "output_type": "stream",
     "text": [
      "processing splits/dataset.csv.train.0...\n",
      "processing splits/dataset.csv.train.1...\n",
      "processing splits/dataset.csv.train.4...\n",
      "processing splits/dataset.csv.train.3...\n",
      "processing splits/dataset.csv.train.2...\n",
      "ItemPop\n",
      "mrr            0.4406 +/- 0.0033\n",
      "prec@5         0.2507 +/- 0.0014\n",
      "prec@10        0.2122 +/- 0.0015\n",
      "prec@15        0.1910 +/- 0.0009\n",
      "prec@20        0.1756 +/- 0.0004\n"
     ]
    }
   ],
   "source": [
    "make_predictions(modeldir=os.path.abspath('models/popularity'), predict_outdir=os.path.abspath('predictions/popularity'))"
   ]
  },
  {
   "cell_type": "markdown",
   "metadata": {},
   "source": [
    "## KNN"
   ]
  },
  {
   "cell_type": "code",
   "execution_count": 83,
   "metadata": {},
   "outputs": [
    {
     "name": "stdout",
     "output_type": "stream",
     "text": [
      "processing splits/dataset.csv.train.0...\n",
      "processing splits/dataset.csv.train.1...\n",
      "processing splits/dataset.csv.train.4...\n",
      "processing splits/dataset.csv.train.3...\n",
      "processing splits/dataset.csv.train.2...\n",
      "CosineKNNRecommender(k=100)\n",
      "mrr            0.4366 +/- 0.0055\n",
      "prec@5         0.2547 +/- 0.0023\n",
      "prec@10        0.2093 +/- 0.0016\n",
      "prec@15        0.1800 +/- 0.0006\n",
      "prec@20        0.1612 +/- 0.0008\n"
     ]
    }
   ],
   "source": [
    "make_predictions(modeldir=os.path.abspath('models/knn'), predict_outdir=os.path.abspath('predictions/knn'))"
   ]
  },
  {
   "cell_type": "markdown",
   "metadata": {},
   "source": [
    "## SLIM"
   ]
  },
  {
   "cell_type": "code",
   "execution_count": 84,
   "metadata": {},
   "outputs": [
    {
     "name": "stdout",
     "output_type": "stream",
     "text": [
      "processing splits/dataset.csv.train.0...\n",
      "processing splits/dataset.csv.train.1...\n",
      "processing splits/dataset.csv.train.4...\n",
      "processing splits/dataset.csv.train.3...\n",
      "processing splits/dataset.csv.train.2...\n",
      "SLIM(SGDRegressor(alpha=0.0011, average=False, epsilon=0.1, eta0=0.01,\n",
      "       fit_intercept=False, l1_ratio=0.9090909090909091,\n",
      "       learning_rate='invscaling', loss='squared_loss', max_iter=5,\n",
      "       n_iter=None, penalty='elasticnet', power_t=0.25, random_state=None,\n",
      "       shuffle=True, tol=None, verbose=0, warm_start=False))\n",
      "mrr            0.5743 +/- 0.0036\n",
      "prec@5         0.3609 +/- 0.0021\n",
      "prec@10        0.3088 +/- 0.0022\n",
      "prec@15        0.2745 +/- 0.0012\n",
      "prec@20        0.2499 +/- 0.0009\n"
     ]
    }
   ],
   "source": [
    "make_predictions(modeldir=os.path.abspath('models/slim'), predict_outdir=os.path.abspath('predictions/slim'))"
   ]
  }
 ],
 "metadata": {
  "kernelspec": {
   "display_name": "Python 3",
   "language": "python",
   "name": "python3"
  },
  "language_info": {
   "codemirror_mode": {
    "name": "ipython",
    "version": 3
   },
   "file_extension": ".py",
   "mimetype": "text/x-python",
   "name": "python",
   "nbconvert_exporter": "python",
   "pygments_lexer": "ipython3",
   "version": "3.5.4"
  }
 },
 "nbformat": 4,
 "nbformat_minor": 2
}
