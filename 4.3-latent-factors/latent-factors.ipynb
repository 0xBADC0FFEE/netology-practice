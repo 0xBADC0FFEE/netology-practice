{
 "cells": [
  {
   "cell_type": "markdown",
   "metadata": {},
   "source": [
    "# Задание к занятию «Рекомендации на основе скрытых факторов»\n",
    "\n",
    "Описание задания:\n",
    "Что делать\n",
    "1. Установить implicit;\n",
    "2. Взять датасет last.fm (урезанный или полный);\n",
    "3. Разбить датасет на обучающую и тестовую выборки;\n",
    "4. Построить на обучающей выборке хотя бы две модели из пакета implicit:\n",
    "    − kNN по косинусной мере\n",
    "    − ALS\n",
    "5. Получить рекомендации на тестовой выборке для обученных моделей;\n",
    "6. Сравнить метрики качества обученных моделей на тестовой выборке с помощью mrec (или иным способом)."
   ]
  },
  {
   "cell_type": "code",
   "execution_count": 28,
   "metadata": {
    "collapsed": true
   },
   "outputs": [],
   "source": [
    "import pandas as pd\n",
    "import numpy as np"
   ]
  },
  {
   "cell_type": "code",
   "execution_count": 29,
   "metadata": {
    "collapsed": true
   },
   "outputs": [],
   "source": [
    "# plots snippet\n",
    "from matplotlib import pyplot as plt\n",
    "import seaborn as sns\n",
    "from pylab import rcParams\n",
    "\n",
    "%config InlineBackend.figure_format = 'retina'\n",
    "%matplotlib inline\n",
    "%config InlineBackend.figure_format = 'png'\n",
    "rcParams['figure.figsize'] = (16, 6)"
   ]
  },
  {
   "cell_type": "code",
   "execution_count": 30,
   "metadata": {},
   "outputs": [
    {
     "name": "stdout",
     "output_type": "stream",
     "text": [
      "lastfm.als.pred.tsv  lastfm.test.tsv      latent-factors.ipynb\r\n",
      "lastfm.knn.pred.tsv  lastfm_small.tsv\r\n"
     ]
    }
   ],
   "source": [
    "! ls"
   ]
  },
  {
   "cell_type": "code",
   "execution_count": 31,
   "metadata": {},
   "outputs": [
    {
     "data": {
      "text/html": [
       "<div>\n",
       "<style>\n",
       "    .dataframe thead tr:only-child th {\n",
       "        text-align: right;\n",
       "    }\n",
       "\n",
       "    .dataframe thead th {\n",
       "        text-align: left;\n",
       "    }\n",
       "\n",
       "    .dataframe tbody tr th {\n",
       "        vertical-align: top;\n",
       "    }\n",
       "</style>\n",
       "<table border=\"1\" class=\"dataframe\">\n",
       "  <thead>\n",
       "    <tr style=\"text-align: right;\">\n",
       "      <th></th>\n",
       "      <th>user</th>\n",
       "      <th>artist-mbid</th>\n",
       "      <th>artist-name</th>\n",
       "      <th>total-plays</th>\n",
       "    </tr>\n",
       "  </thead>\n",
       "  <tbody>\n",
       "    <tr>\n",
       "      <th>0</th>\n",
       "      <td>00000c289a1829a808ac09c00daf10bc3c4e223b</td>\n",
       "      <td>3bd73256-3905-4f3a-97e2-8b341527f805</td>\n",
       "      <td>betty blowtorch</td>\n",
       "      <td>2137</td>\n",
       "    </tr>\n",
       "    <tr>\n",
       "      <th>1</th>\n",
       "      <td>00000c289a1829a808ac09c00daf10bc3c4e223b</td>\n",
       "      <td>f2fb0ff0-5679-42ec-a55c-15109ce6e320</td>\n",
       "      <td>die Ärzte</td>\n",
       "      <td>1099</td>\n",
       "    </tr>\n",
       "    <tr>\n",
       "      <th>2</th>\n",
       "      <td>00000c289a1829a808ac09c00daf10bc3c4e223b</td>\n",
       "      <td>b3ae82c2-e60b-4551-a76d-6620f1b456aa</td>\n",
       "      <td>melissa etheridge</td>\n",
       "      <td>897</td>\n",
       "    </tr>\n",
       "    <tr>\n",
       "      <th>3</th>\n",
       "      <td>00000c289a1829a808ac09c00daf10bc3c4e223b</td>\n",
       "      <td>3d6bbeb7-f90e-4d10-b440-e153c0d10b53</td>\n",
       "      <td>elvenking</td>\n",
       "      <td>717</td>\n",
       "    </tr>\n",
       "    <tr>\n",
       "      <th>4</th>\n",
       "      <td>00000c289a1829a808ac09c00daf10bc3c4e223b</td>\n",
       "      <td>bbd2ffd7-17f4-4506-8572-c1ea58c3f9a8</td>\n",
       "      <td>juliette &amp; the licks</td>\n",
       "      <td>706</td>\n",
       "    </tr>\n",
       "  </tbody>\n",
       "</table>\n",
       "</div>"
      ],
      "text/plain": [
       "                                        user  \\\n",
       "0   00000c289a1829a808ac09c00daf10bc3c4e223b   \n",
       "1   00000c289a1829a808ac09c00daf10bc3c4e223b   \n",
       "2   00000c289a1829a808ac09c00daf10bc3c4e223b   \n",
       "3   00000c289a1829a808ac09c00daf10bc3c4e223b   \n",
       "4   00000c289a1829a808ac09c00daf10bc3c4e223b   \n",
       "\n",
       "                            artist-mbid           artist-name  total-plays  \n",
       "0  3bd73256-3905-4f3a-97e2-8b341527f805       betty blowtorch         2137  \n",
       "1  f2fb0ff0-5679-42ec-a55c-15109ce6e320             die Ärzte         1099  \n",
       "2  b3ae82c2-e60b-4551-a76d-6620f1b456aa     melissa etheridge          897  \n",
       "3  3d6bbeb7-f90e-4d10-b440-e153c0d10b53             elvenking          717  \n",
       "4  bbd2ffd7-17f4-4506-8572-c1ea58c3f9a8  juliette & the licks          706  "
      ]
     },
     "execution_count": 31,
     "metadata": {},
     "output_type": "execute_result"
    }
   ],
   "source": [
    "column_names = [\"user\", \"artist-mbid\", \"artist-name\", \"total-plays\"]\n",
    "data = pd.read_csv('lastfm_small.tsv', sep='\\t', header=None, names=column_names)\n",
    "data.head()"
   ]
  },
  {
   "cell_type": "markdown",
   "metadata": {},
   "source": [
    "## Подготовка данных"
   ]
  },
  {
   "cell_type": "code",
   "execution_count": 32,
   "metadata": {},
   "outputs": [
    {
     "data": {
      "text/html": [
       "<div>\n",
       "<style>\n",
       "    .dataframe thead tr:only-child th {\n",
       "        text-align: right;\n",
       "    }\n",
       "\n",
       "    .dataframe thead th {\n",
       "        text-align: left;\n",
       "    }\n",
       "\n",
       "    .dataframe tbody tr th {\n",
       "        vertical-align: top;\n",
       "    }\n",
       "</style>\n",
       "<table border=\"1\" class=\"dataframe\">\n",
       "  <thead>\n",
       "    <tr style=\"text-align: right;\">\n",
       "      <th></th>\n",
       "      <th>user_id</th>\n",
       "      <th>artist_id</th>\n",
       "      <th>plays</th>\n",
       "    </tr>\n",
       "  </thead>\n",
       "  <tbody>\n",
       "    <tr>\n",
       "      <th>0</th>\n",
       "      <td>1</td>\n",
       "      <td>15531</td>\n",
       "      <td>2137.0</td>\n",
       "    </tr>\n",
       "    <tr>\n",
       "      <th>1</th>\n",
       "      <td>2</td>\n",
       "      <td>63469</td>\n",
       "      <td>1099.0</td>\n",
       "    </tr>\n",
       "    <tr>\n",
       "      <th>2</th>\n",
       "      <td>2</td>\n",
       "      <td>46858</td>\n",
       "      <td>897.0</td>\n",
       "    </tr>\n",
       "    <tr>\n",
       "      <th>3</th>\n",
       "      <td>2</td>\n",
       "      <td>15968</td>\n",
       "      <td>717.0</td>\n",
       "    </tr>\n",
       "    <tr>\n",
       "      <th>4</th>\n",
       "      <td>2</td>\n",
       "      <td>48969</td>\n",
       "      <td>706.0</td>\n",
       "    </tr>\n",
       "  </tbody>\n",
       "</table>\n",
       "</div>"
      ],
      "text/plain": [
       "   user_id  artist_id   plays\n",
       "0        1      15531  2137.0\n",
       "1        2      63469  1099.0\n",
       "2        2      46858   897.0\n",
       "3        2      15968   717.0\n",
       "4        2      48969   706.0"
      ]
     },
     "execution_count": 32,
     "metadata": {},
     "output_type": "execute_result"
    }
   ],
   "source": [
    "data.fillna(\"None\", inplace=True)\n",
    "data[\"user_id\"] = data[\"user\"].astype(\"category\").cat.codes.copy() + 1\n",
    "data[\"artist_id\"] = data[\"artist-mbid\"].astype(\"category\").cat.codes.copy() + 1\n",
    "data[\"plays\"] = data[\"total-plays\"].astype(np.double)\n",
    "data.drop([\"artist-name\", \"artist-mbid\", \"user\", \"total-plays\"], axis=1, inplace=True)\n",
    "data.head()"
   ]
  },
  {
   "cell_type": "code",
   "execution_count": 33,
   "metadata": {},
   "outputs": [
    {
     "data": {
      "text/html": [
       "<div>\n",
       "<style>\n",
       "    .dataframe thead tr:only-child th {\n",
       "        text-align: right;\n",
       "    }\n",
       "\n",
       "    .dataframe thead th {\n",
       "        text-align: left;\n",
       "    }\n",
       "\n",
       "    .dataframe tbody tr th {\n",
       "        vertical-align: top;\n",
       "    }\n",
       "</style>\n",
       "<table border=\"1\" class=\"dataframe\">\n",
       "  <thead>\n",
       "    <tr style=\"text-align: right;\">\n",
       "      <th></th>\n",
       "      <th>user_id</th>\n",
       "      <th>artist_id</th>\n",
       "      <th>plays</th>\n",
       "    </tr>\n",
       "  </thead>\n",
       "  <tbody>\n",
       "    <tr>\n",
       "      <th>count</th>\n",
       "      <td>1000000.000000</td>\n",
       "      <td>1000000.000000</td>\n",
       "      <td>1000000.000000</td>\n",
       "    </tr>\n",
       "    <tr>\n",
       "      <th>mean</th>\n",
       "      <td>10233.925995</td>\n",
       "      <td>33678.492236</td>\n",
       "      <td>216.606950</td>\n",
       "    </tr>\n",
       "    <tr>\n",
       "      <th>std</th>\n",
       "      <td>5912.022449</td>\n",
       "      <td>19230.330182</td>\n",
       "      <td>604.378024</td>\n",
       "    </tr>\n",
       "    <tr>\n",
       "      <th>min</th>\n",
       "      <td>1.000000</td>\n",
       "      <td>1.000000</td>\n",
       "      <td>1.000000</td>\n",
       "    </tr>\n",
       "    <tr>\n",
       "      <th>25%</th>\n",
       "      <td>5119.000000</td>\n",
       "      <td>17298.000000</td>\n",
       "      <td>34.000000</td>\n",
       "    </tr>\n",
       "    <tr>\n",
       "      <th>50%</th>\n",
       "      <td>10238.000000</td>\n",
       "      <td>34544.000000</td>\n",
       "      <td>94.000000</td>\n",
       "    </tr>\n",
       "    <tr>\n",
       "      <th>75%</th>\n",
       "      <td>15348.000000</td>\n",
       "      <td>49488.000000</td>\n",
       "      <td>225.000000</td>\n",
       "    </tr>\n",
       "    <tr>\n",
       "      <th>max</th>\n",
       "      <td>20466.000000</td>\n",
       "      <td>66799.000000</td>\n",
       "      <td>135392.000000</td>\n",
       "    </tr>\n",
       "  </tbody>\n",
       "</table>\n",
       "</div>"
      ],
      "text/plain": [
       "              user_id       artist_id           plays\n",
       "count  1000000.000000  1000000.000000  1000000.000000\n",
       "mean     10233.925995    33678.492236      216.606950\n",
       "std       5912.022449    19230.330182      604.378024\n",
       "min          1.000000        1.000000        1.000000\n",
       "25%       5119.000000    17298.000000       34.000000\n",
       "50%      10238.000000    34544.000000       94.000000\n",
       "75%      15348.000000    49488.000000      225.000000\n",
       "max      20466.000000    66799.000000   135392.000000"
      ]
     },
     "execution_count": 33,
     "metadata": {},
     "output_type": "execute_result"
    }
   ],
   "source": [
    "data.describe()"
   ]
  },
  {
   "cell_type": "code",
   "execution_count": 34,
   "metadata": {},
   "outputs": [
    {
     "data": {
      "text/plain": [
       "((800000, 3), (200000, 3))"
      ]
     },
     "execution_count": 34,
     "metadata": {},
     "output_type": "execute_result"
    }
   ],
   "source": [
    "test_indices = np.random.choice(data.index.values, replace=False, size=int(len(data.index.values) * 0.2))\n",
    "test_data = data.iloc[test_indices]\n",
    "train_data = data.drop(test_indices)\n",
    "train_data.shape, test_data.shape"
   ]
  },
  {
   "cell_type": "code",
   "execution_count": 35,
   "metadata": {},
   "outputs": [
    {
     "name": "stdout",
     "output_type": "stream",
     "text": [
      "нет в обучающей выборке, но есть в тестовой: 3\n",
      "нет в тестовой выборке, но есть в обучающей: 22\n",
      "всего пользователей: 20466\n"
     ]
    }
   ],
   "source": [
    "test_user_set = set(test_data[\"user_id\"].unique())\n",
    "train_user_set = set(train_data[\"user_id\"].unique())\n",
    "print(\"нет в обучающей выборке, но есть в тестовой: {}\".format(len(test_user_set - train_user_set)))\n",
    "print(\"нет в тестовой выборке, но есть в обучающей: {}\".format(len(train_user_set - test_user_set)))\n",
    "print(\"всего пользователей: {}\".format(len(data[\"user_id\"].unique())))"
   ]
  },
  {
   "cell_type": "code",
   "execution_count": 36,
   "metadata": {},
   "outputs": [
    {
     "name": "stderr",
     "output_type": "stream",
     "text": [
      "/Users/a.burtsev/miniconda3/envs/netology/lib/python3.5/site-packages/ipykernel_launcher.py:2: SettingWithCopyWarning: \n",
      "A value is trying to be set on a copy of a slice from a DataFrame\n",
      "\n",
      "See the caveats in the documentation: http://pandas.pydata.org/pandas-docs/stable/indexing.html#indexing-view-versus-copy\n",
      "  \n"
     ]
    }
   ],
   "source": [
    "user_ids_to_exclude = (test_user_set - train_user_set).union(train_user_set - test_user_set)\n",
    "test_data.drop(test_data[test_data[\"user_id\"].isin(user_ids_to_exclude).values].index, inplace=True)\n",
    "train_data.drop(train_data[train_data[\"user_id\"].isin(user_ids_to_exclude).values].index, inplace=True)"
   ]
  },
  {
   "cell_type": "code",
   "execution_count": 37,
   "metadata": {},
   "outputs": [
    {
     "data": {
      "text/plain": [
       "((799789, 3), (199997, 3))"
      ]
     },
     "execution_count": 37,
     "metadata": {},
     "output_type": "execute_result"
    }
   ],
   "source": [
    "train_data.shape, test_data.shape"
   ]
  },
  {
   "cell_type": "code",
   "execution_count": 38,
   "metadata": {
    "collapsed": true
   },
   "outputs": [],
   "source": [
    "test_data.to_csv('lastfm.test.tsv', sep='\\t', index=False, header=False)"
   ]
  },
  {
   "cell_type": "code",
   "execution_count": 39,
   "metadata": {
    "collapsed": true
   },
   "outputs": [],
   "source": [
    "from scipy.sparse import csr_matrix\n",
    "from scipy.sparse import coo_matrix"
   ]
  },
  {
   "cell_type": "code",
   "execution_count": 40,
   "metadata": {
    "collapsed": true
   },
   "outputs": [],
   "source": [
    "# функция, которая красиво печатает информацию о разреженных матрицах\n",
    "\n",
    "def sparse_info(sparse_matrix: csr_matrix) -> None:\n",
    "    print(\"Размерности матрицы: {}\".format(sparse_matrix.shape))\n",
    "    print(\"Ненулевых элементов в матрице: {}\".format(sparse_matrix.nnz))\n",
    "    print(\"Доля ненулевых элементов: {}\"\n",
    "          .format(sparse_matrix.nnz / sparse_matrix.shape[0] / sparse_matrix.shape[1])\n",
    "    )\n",
    "    print(\"Среднее значение ненулевых элементов: {}\".format(sparse_matrix.data.mean()))\n",
    "    print(\"Максимальное значение ненулевых элементов: {}\".format(sparse_matrix.data.max()))\n",
    "    print(\"Минимальное значение ненулевых элементов: {}\".format(sparse_matrix.data.min()))"
   ]
  },
  {
   "cell_type": "code",
   "execution_count": 41,
   "metadata": {},
   "outputs": [
    {
     "name": "stdout",
     "output_type": "stream",
     "text": [
      "Размерности матрицы: (66800, 20467)\n",
      "Ненулевых элементов в матрице: 799776\n",
      "Доля ненулевых элементов: 0.0005849755514134189\n",
      "Среднее значение ненулевых элементов: 216.31050319089346\n",
      "Максимальное значение ненулевых элементов: 135392.0\n",
      "Минимальное значение ненулевых элементов: 1.0\n"
     ]
    }
   ],
   "source": [
    "plays = coo_matrix((\n",
    "    train_data[\"plays\"].astype(np.float),\n",
    "    (\n",
    "        train_data[\"artist_id\"],\n",
    "        train_data[\"user_id\"]\n",
    "    )\n",
    "))\n",
    "\n",
    "sparse_info(plays.tocsr())"
   ]
  },
  {
   "cell_type": "markdown",
   "metadata": {},
   "source": [
    "## Обучение и предсказания"
   ]
  },
  {
   "cell_type": "markdown",
   "metadata": {},
   "source": [
    "### ALS"
   ]
  },
  {
   "cell_type": "code",
   "execution_count": 42,
   "metadata": {
    "collapsed": true
   },
   "outputs": [],
   "source": [
    "from implicit.als import AlternatingLeastSquares\n",
    "from multiprocessing import cpu_count"
   ]
  },
  {
   "cell_type": "code",
   "execution_count": 43,
   "metadata": {},
   "outputs": [],
   "source": [
    "model = AlternatingLeastSquares(factors=100, num_threads=cpu_count())\n",
    "model.fit(plays)"
   ]
  },
  {
   "cell_type": "code",
   "execution_count": 44,
   "metadata": {},
   "outputs": [],
   "source": [
    "user_plays = plays.T.tocsr()\n",
    "\n",
    "predict_artist = []\n",
    "\n",
    "for user_id in test_data['user_id'].unique():\n",
    "    for artist_id, score in model.recommend(user_id, user_plays):        \n",
    "        predict_artist.append((user_id, artist_id, score))\n",
    "\n",
    "als_predictions = pd.DataFrame(predict_artist, columns=['user_id', 'artist_id', 'plays'])\n",
    "als_predictions.to_csv('lastfm.als.pred.tsv', sep='\\t', index=False, header=False)"
   ]
  },
  {
   "cell_type": "markdown",
   "metadata": {},
   "source": [
    "### KNN"
   ]
  },
  {
   "cell_type": "code",
   "execution_count": 45,
   "metadata": {
    "collapsed": true
   },
   "outputs": [],
   "source": [
    "from implicit.nearest_neighbours import CosineRecommender"
   ]
  },
  {
   "cell_type": "code",
   "execution_count": 46,
   "metadata": {},
   "outputs": [
    {
     "name": "stdout",
     "output_type": "stream",
     "text": [
      "Размерности матрицы: (66800, 66800)\n",
      "Ненулевых элементов в матрице: 1215461\n",
      "Доля ненулевых элементов: 0.0002723880831152067\n",
      "Среднее значение ненулевых элементов: 0.44390724490716377\n",
      "Максимальное значение ненулевых элементов: 1.0000000000000078\n",
      "Минимальное значение ненулевых элементов: 0.0\n"
     ]
    }
   ],
   "source": [
    "model = CosineRecommender()\n",
    "model.fit(plays)\n",
    "sparse_info(model.similarity)"
   ]
  },
  {
   "cell_type": "code",
   "execution_count": 47,
   "metadata": {},
   "outputs": [],
   "source": [
    "user_plays = plays.T.tocsr()\n",
    "\n",
    "predict_artist = []\n",
    "\n",
    "for user_id in test_data['user_id'].unique():\n",
    "    for artist_id, score in model.recommend(user_id, user_plays):        \n",
    "        predict_artist.append((user_id, artist_id, score))\n",
    "\n",
    "knn_predictions = pd.DataFrame(predict_artist, columns=['user_id', 'artist_id', 'plays'])\n",
    "knn_predictions.to_csv('lastfm.knn.pred.tsv', sep='\\t', index=False, header=False)"
   ]
  },
  {
   "cell_type": "markdown",
   "metadata": {},
   "source": [
    "## Метрики качества"
   ]
  },
  {
   "cell_type": "code",
   "execution_count": 48,
   "metadata": {
    "collapsed": true
   },
   "outputs": [],
   "source": [
    "from sklearn.metrics import mean_squared_error\n",
    "from math import sqrt"
   ]
  },
  {
   "cell_type": "code",
   "execution_count": 49,
   "metadata": {},
   "outputs": [],
   "source": [
    "als_test_predictions = pd.merge(test_data, als_predictions, on=['user_id', 'artist_id'], suffixes=('_test', '_pred'))"
   ]
  },
  {
   "cell_type": "code",
   "execution_count": 50,
   "metadata": {},
   "outputs": [],
   "source": [
    "knn_test_predictions = pd.merge(test_data, knn_predictions, on=['user_id', 'artist_id'], suffixes=('_test', '_pred'))"
   ]
  },
  {
   "cell_type": "markdown",
   "metadata": {},
   "source": [
    "### RMSE"
   ]
  },
  {
   "cell_type": "code",
   "execution_count": 51,
   "metadata": {},
   "outputs": [
    {
     "name": "stdout",
     "output_type": "stream",
     "text": [
      "ALS 969.9084665130302\n",
      "KNN 1419.5128903400305\n"
     ]
    }
   ],
   "source": [
    "print('ALS', sqrt(mean_squared_error(als_test_predictions['plays_test'], als_test_predictions['plays_pred'])))\n",
    "print('KNN', sqrt(mean_squared_error(knn_test_predictions['plays_test'], knn_test_predictions['plays_pred'])))"
   ]
  },
  {
   "cell_type": "markdown",
   "metadata": {},
   "source": [
    "### MREC"
   ]
  },
  {
   "cell_type": "code",
   "execution_count": 52,
   "metadata": {
    "collapsed": true
   },
   "outputs": [],
   "source": [
    "from collections import defaultdict\n",
    "from mrec import load_sparse_matrix\n",
    "from mrec.evaluation.metrics import compute_main_metrics, compute_hit_rate\n",
    "from mrec.evaluation import Evaluator\n",
    "from mrec.evaluation.metrics import print_report\n",
    "\n",
    "evaluator = Evaluator(compute_main_metrics, max_items=20)\n",
    "testdata = load_sparse_matrix('tsv', 'lastfm.test.tsv').tocsr()"
   ]
  },
  {
   "cell_type": "markdown",
   "metadata": {},
   "source": [
    "#### ALS"
   ]
  },
  {
   "cell_type": "code",
   "execution_count": 53,
   "metadata": {},
   "outputs": [
    {
     "name": "stdout",
     "output_type": "stream",
     "text": [
      "ALS\n",
      "mrr            0.3132 +/- 0.0000\n",
      "prec@5         0.1377 +/- 0.0000\n",
      "prec@10        0.1128 +/- 0.0000\n",
      "prec@15        0.0752 +/- 0.0000\n",
      "prec@20        0.0564 +/- 0.0000\n"
     ]
    }
   ],
   "source": [
    "all_metrics = defaultdict(list)\n",
    "\n",
    "cum_metrics, count = evaluator.process(testdata, 'lastfm.als.pred.tsv', 0, testdata.shape[0])\n",
    "if cum_metrics is not None:\n",
    "    for m in cum_metrics:\n",
    "        all_metrics[m].append(float(cum_metrics[m]) / count)\n",
    "        \n",
    "print_report(['ALS'], [all_metrics])"
   ]
  },
  {
   "cell_type": "markdown",
   "metadata": {},
   "source": [
    "#### KNN"
   ]
  },
  {
   "cell_type": "code",
   "execution_count": 54,
   "metadata": {},
   "outputs": [
    {
     "name": "stdout",
     "output_type": "stream",
     "text": [
      "KNN\n",
      "mrr            0.0483 +/- 0.0000\n",
      "prec@5         0.0164 +/- 0.0000\n",
      "prec@10        0.0147 +/- 0.0000\n",
      "prec@15        0.0098 +/- 0.0000\n",
      "prec@20        0.0074 +/- 0.0000\n"
     ]
    }
   ],
   "source": [
    "all_metrics = defaultdict(list)\n",
    "\n",
    "cum_metrics, count = evaluator.process(testdata, 'lastfm.knn.pred.tsv', 0, testdata.shape[0])\n",
    "if cum_metrics is not None:\n",
    "    for m in cum_metrics:\n",
    "        all_metrics[m].append(float(cum_metrics[m]) / count)\n",
    "        \n",
    "print_report(['KNN'], [all_metrics])"
   ]
  }
 ],
 "metadata": {
  "kernelspec": {
   "display_name": "Python 3",
   "language": "python",
   "name": "python3"
  },
  "language_info": {
   "codemirror_mode": {
    "name": "ipython",
    "version": 3
   },
   "file_extension": ".py",
   "mimetype": "text/x-python",
   "name": "python",
   "nbconvert_exporter": "python",
   "pygments_lexer": "ipython3",
   "version": "3.5.4"
  }
 },
 "nbformat": 4,
 "nbformat_minor": 2
}
