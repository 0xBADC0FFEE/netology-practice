{
 "cells": [
  {
   "cell_type": "markdown",
   "metadata": {},
   "source": [
    "# Домашнее задание 2 по обработке текстов\n",
    "\n",
    "Рассмотрим задачу бинарной классификации. Пусть дано два списка имен: мужские и женские имена. Требуется разработать классификатор, который по данному имени будет определять мужское оно или женское.\n",
    "\n",
    "Данные: \n",
    "* Женские имена: female.txt\n",
    "* Мужские имена: male.txt"
   ]
  },
  {
   "cell_type": "code",
   "execution_count": 1,
   "metadata": {},
   "outputs": [
    {
     "data": {
      "text/html": [
       "<script>requirejs.config({paths: { 'plotly': ['https://cdn.plot.ly/plotly-latest.min']},});if(!window.Plotly) {{require(['plotly'],function(plotly) {window.Plotly=plotly;});}}</script>"
      ],
      "text/vnd.plotly.v1+html": [
       "<script>requirejs.config({paths: { 'plotly': ['https://cdn.plot.ly/plotly-latest.min']},});if(!window.Plotly) {{require(['plotly'],function(plotly) {window.Plotly=plotly;});}}</script>"
      ]
     },
     "metadata": {},
     "output_type": "display_data"
    },
    {
     "name": "stdout",
     "output_type": "stream",
     "text": [
      "Populating the interactive namespace from numpy and matplotlib\n"
     ]
    }
   ],
   "source": [
    "# plots\n",
    "from matplotlib import pyplot as plt\n",
    "import seaborn as sns\n",
    "from pylab import rcParams\n",
    "\n",
    "from plotly.offline import init_notebook_mode, iplot\n",
    "import plotly\n",
    "import plotly.graph_objs as go\n",
    "init_notebook_mode(connected=True)\n",
    "\n",
    "%config InlineBackend.figure_format = 'retina'\n",
    "%matplotlib inline\n",
    "%pylab inline\n",
    "%config InlineBackend.figure_format = 'png'\n",
    "rcParams['figure.figsize'] = (16, 6)"
   ]
  },
  {
   "cell_type": "code",
   "execution_count": 2,
   "metadata": {},
   "outputs": [
    {
     "name": "stdout",
     "output_type": "stream",
     "text": [
      "female.txt  male.txt    names.ipynb\r\n"
     ]
    }
   ],
   "source": [
    "! ls"
   ]
  },
  {
   "cell_type": "code",
   "execution_count": 2,
   "metadata": {
    "collapsed": true
   },
   "outputs": [],
   "source": [
    "import pandas as pd\n",
    "import numpy as np"
   ]
  },
  {
   "cell_type": "markdown",
   "metadata": {},
   "source": [
    "## Часть 1. Предварительная обработка данных\n",
    "\n",
    "1. Удалите неоднозначные имена (те имена, которые являются и мужскими, и женскими дновременно), если такие есть; \n",
    "2. Создайте обучающее и тестовое множество так, чтобы в обучающем множестве классы были сбалансированы, т.е. к классу принадлежало бы одинаковое количество имен;"
   ]
  },
  {
   "cell_type": "code",
   "execution_count": 3,
   "metadata": {},
   "outputs": [
    {
     "name": "stdout",
     "output_type": "stream",
     "text": [
      "<class 'pandas.core.frame.DataFrame'>\n",
      "RangeIndex: 2943 entries, 0 to 2942\n",
      "Data columns (total 1 columns):\n",
      "name    2943 non-null object\n",
      "dtypes: object(1)\n",
      "memory usage: 23.1+ KB\n"
     ]
    },
    {
     "data": {
      "text/html": [
       "<div>\n",
       "<style>\n",
       "    .dataframe thead tr:only-child th {\n",
       "        text-align: right;\n",
       "    }\n",
       "\n",
       "    .dataframe thead th {\n",
       "        text-align: left;\n",
       "    }\n",
       "\n",
       "    .dataframe tbody tr th {\n",
       "        vertical-align: top;\n",
       "    }\n",
       "</style>\n",
       "<table border=\"1\" class=\"dataframe\">\n",
       "  <thead>\n",
       "    <tr style=\"text-align: right;\">\n",
       "      <th></th>\n",
       "      <th>name</th>\n",
       "    </tr>\n",
       "  </thead>\n",
       "  <tbody>\n",
       "    <tr>\n",
       "      <th>0</th>\n",
       "      <td>Aamir</td>\n",
       "    </tr>\n",
       "    <tr>\n",
       "      <th>1</th>\n",
       "      <td>Aaron</td>\n",
       "    </tr>\n",
       "    <tr>\n",
       "      <th>2</th>\n",
       "      <td>Abbey</td>\n",
       "    </tr>\n",
       "    <tr>\n",
       "      <th>3</th>\n",
       "      <td>Abbie</td>\n",
       "    </tr>\n",
       "    <tr>\n",
       "      <th>4</th>\n",
       "      <td>Abbot</td>\n",
       "    </tr>\n",
       "  </tbody>\n",
       "</table>\n",
       "</div>"
      ],
      "text/plain": [
       "    name\n",
       "0  Aamir\n",
       "1  Aaron\n",
       "2  Abbey\n",
       "3  Abbie\n",
       "4  Abbot"
      ]
     },
     "metadata": {},
     "output_type": "display_data"
    },
    {
     "data": {
      "text/html": [
       "<div>\n",
       "<style>\n",
       "    .dataframe thead tr:only-child th {\n",
       "        text-align: right;\n",
       "    }\n",
       "\n",
       "    .dataframe thead th {\n",
       "        text-align: left;\n",
       "    }\n",
       "\n",
       "    .dataframe tbody tr th {\n",
       "        vertical-align: top;\n",
       "    }\n",
       "</style>\n",
       "<table border=\"1\" class=\"dataframe\">\n",
       "  <thead>\n",
       "    <tr style=\"text-align: right;\">\n",
       "      <th></th>\n",
       "      <th>name</th>\n",
       "    </tr>\n",
       "  </thead>\n",
       "  <tbody>\n",
       "    <tr>\n",
       "      <th>count</th>\n",
       "      <td>2943</td>\n",
       "    </tr>\n",
       "    <tr>\n",
       "      <th>unique</th>\n",
       "      <td>2943</td>\n",
       "    </tr>\n",
       "    <tr>\n",
       "      <th>top</th>\n",
       "      <td>Hakeem</td>\n",
       "    </tr>\n",
       "    <tr>\n",
       "      <th>freq</th>\n",
       "      <td>1</td>\n",
       "    </tr>\n",
       "  </tbody>\n",
       "</table>\n",
       "</div>"
      ],
      "text/plain": [
       "          name\n",
       "count     2943\n",
       "unique    2943\n",
       "top     Hakeem\n",
       "freq         1"
      ]
     },
     "metadata": {},
     "output_type": "display_data"
    },
    {
     "data": {
      "text/plain": [
       "None"
      ]
     },
     "metadata": {},
     "output_type": "display_data"
    }
   ],
   "source": [
    "df_male = pd.read_csv('male.txt', sep=\",\", header=None, names=['name'])\n",
    "display(df_male.head(), df_male.describe(), df_male.info())"
   ]
  },
  {
   "cell_type": "code",
   "execution_count": 4,
   "metadata": {},
   "outputs": [
    {
     "name": "stdout",
     "output_type": "stream",
     "text": [
      "<class 'pandas.core.frame.DataFrame'>\n",
      "RangeIndex: 5001 entries, 0 to 5000\n",
      "Data columns (total 1 columns):\n",
      "name    5001 non-null object\n",
      "dtypes: object(1)\n",
      "memory usage: 39.1+ KB\n"
     ]
    },
    {
     "data": {
      "text/html": [
       "<div>\n",
       "<style>\n",
       "    .dataframe thead tr:only-child th {\n",
       "        text-align: right;\n",
       "    }\n",
       "\n",
       "    .dataframe thead th {\n",
       "        text-align: left;\n",
       "    }\n",
       "\n",
       "    .dataframe tbody tr th {\n",
       "        vertical-align: top;\n",
       "    }\n",
       "</style>\n",
       "<table border=\"1\" class=\"dataframe\">\n",
       "  <thead>\n",
       "    <tr style=\"text-align: right;\">\n",
       "      <th></th>\n",
       "      <th>name</th>\n",
       "    </tr>\n",
       "  </thead>\n",
       "  <tbody>\n",
       "    <tr>\n",
       "      <th>0</th>\n",
       "      <td>Abagael</td>\n",
       "    </tr>\n",
       "    <tr>\n",
       "      <th>1</th>\n",
       "      <td>Abagail</td>\n",
       "    </tr>\n",
       "    <tr>\n",
       "      <th>2</th>\n",
       "      <td>Abbe</td>\n",
       "    </tr>\n",
       "    <tr>\n",
       "      <th>3</th>\n",
       "      <td>Abbey</td>\n",
       "    </tr>\n",
       "    <tr>\n",
       "      <th>4</th>\n",
       "      <td>Abbi</td>\n",
       "    </tr>\n",
       "  </tbody>\n",
       "</table>\n",
       "</div>"
      ],
      "text/plain": [
       "      name\n",
       "0  Abagael\n",
       "1  Abagail\n",
       "2     Abbe\n",
       "3    Abbey\n",
       "4     Abbi"
      ]
     },
     "metadata": {},
     "output_type": "display_data"
    },
    {
     "data": {
      "text/html": [
       "<div>\n",
       "<style>\n",
       "    .dataframe thead tr:only-child th {\n",
       "        text-align: right;\n",
       "    }\n",
       "\n",
       "    .dataframe thead th {\n",
       "        text-align: left;\n",
       "    }\n",
       "\n",
       "    .dataframe tbody tr th {\n",
       "        vertical-align: top;\n",
       "    }\n",
       "</style>\n",
       "<table border=\"1\" class=\"dataframe\">\n",
       "  <thead>\n",
       "    <tr style=\"text-align: right;\">\n",
       "      <th></th>\n",
       "      <th>name</th>\n",
       "    </tr>\n",
       "  </thead>\n",
       "  <tbody>\n",
       "    <tr>\n",
       "      <th>count</th>\n",
       "      <td>5001</td>\n",
       "    </tr>\n",
       "    <tr>\n",
       "      <th>unique</th>\n",
       "      <td>5001</td>\n",
       "    </tr>\n",
       "    <tr>\n",
       "      <th>top</th>\n",
       "      <td>Valaria</td>\n",
       "    </tr>\n",
       "    <tr>\n",
       "      <th>freq</th>\n",
       "      <td>1</td>\n",
       "    </tr>\n",
       "  </tbody>\n",
       "</table>\n",
       "</div>"
      ],
      "text/plain": [
       "           name\n",
       "count      5001\n",
       "unique     5001\n",
       "top     Valaria\n",
       "freq          1"
      ]
     },
     "metadata": {},
     "output_type": "display_data"
    },
    {
     "data": {
      "text/plain": [
       "None"
      ]
     },
     "metadata": {},
     "output_type": "display_data"
    }
   ],
   "source": [
    "df_female = pd.read_csv('female.txt', sep=\",\", header=None, names=['name'])\n",
    "display(df_female.head(), df_female.describe(), df_female.info())"
   ]
  },
  {
   "cell_type": "code",
   "execution_count": 5,
   "metadata": {},
   "outputs": [
    {
     "name": "stdout",
     "output_type": "stream",
     "text": [
      "<class 'pandas.core.frame.DataFrame'>\n",
      "Int64Index: 7208 entries, 0 to 5000\n",
      "Data columns (total 2 columns):\n",
      "name    7208 non-null object\n",
      "male    7208 non-null int64\n",
      "dtypes: int64(1), object(1)\n",
      "memory usage: 168.9+ KB\n"
     ]
    },
    {
     "data": {
      "text/html": [
       "<div>\n",
       "<style>\n",
       "    .dataframe thead tr:only-child th {\n",
       "        text-align: right;\n",
       "    }\n",
       "\n",
       "    .dataframe thead th {\n",
       "        text-align: left;\n",
       "    }\n",
       "\n",
       "    .dataframe tbody tr th {\n",
       "        vertical-align: top;\n",
       "    }\n",
       "</style>\n",
       "<table border=\"1\" class=\"dataframe\">\n",
       "  <thead>\n",
       "    <tr style=\"text-align: right;\">\n",
       "      <th></th>\n",
       "      <th>name</th>\n",
       "      <th>male</th>\n",
       "    </tr>\n",
       "  </thead>\n",
       "  <tbody>\n",
       "    <tr>\n",
       "      <th>0</th>\n",
       "      <td>aamir</td>\n",
       "      <td>1</td>\n",
       "    </tr>\n",
       "    <tr>\n",
       "      <th>1</th>\n",
       "      <td>aaron</td>\n",
       "      <td>1</td>\n",
       "    </tr>\n",
       "    <tr>\n",
       "      <th>4</th>\n",
       "      <td>abbot</td>\n",
       "      <td>1</td>\n",
       "    </tr>\n",
       "    <tr>\n",
       "      <th>5</th>\n",
       "      <td>abbott</td>\n",
       "      <td>1</td>\n",
       "    </tr>\n",
       "    <tr>\n",
       "      <th>7</th>\n",
       "      <td>abdel</td>\n",
       "      <td>1</td>\n",
       "    </tr>\n",
       "  </tbody>\n",
       "</table>\n",
       "</div>"
      ],
      "text/plain": [
       "     name  male\n",
       "0   aamir     1\n",
       "1   aaron     1\n",
       "4   abbot     1\n",
       "5  abbott     1\n",
       "7   abdel     1"
      ]
     },
     "metadata": {},
     "output_type": "display_data"
    },
    {
     "data": {
      "text/html": [
       "<div>\n",
       "<style>\n",
       "    .dataframe thead tr:only-child th {\n",
       "        text-align: right;\n",
       "    }\n",
       "\n",
       "    .dataframe thead th {\n",
       "        text-align: left;\n",
       "    }\n",
       "\n",
       "    .dataframe tbody tr th {\n",
       "        vertical-align: top;\n",
       "    }\n",
       "</style>\n",
       "<table border=\"1\" class=\"dataframe\">\n",
       "  <thead>\n",
       "    <tr style=\"text-align: right;\">\n",
       "      <th></th>\n",
       "      <th>male</th>\n",
       "    </tr>\n",
       "  </thead>\n",
       "  <tbody>\n",
       "    <tr>\n",
       "      <th>count</th>\n",
       "      <td>7208.000000</td>\n",
       "    </tr>\n",
       "    <tr>\n",
       "      <th>mean</th>\n",
       "      <td>0.357658</td>\n",
       "    </tr>\n",
       "    <tr>\n",
       "      <th>std</th>\n",
       "      <td>0.479344</td>\n",
       "    </tr>\n",
       "    <tr>\n",
       "      <th>min</th>\n",
       "      <td>0.000000</td>\n",
       "    </tr>\n",
       "    <tr>\n",
       "      <th>25%</th>\n",
       "      <td>0.000000</td>\n",
       "    </tr>\n",
       "    <tr>\n",
       "      <th>50%</th>\n",
       "      <td>0.000000</td>\n",
       "    </tr>\n",
       "    <tr>\n",
       "      <th>75%</th>\n",
       "      <td>1.000000</td>\n",
       "    </tr>\n",
       "    <tr>\n",
       "      <th>max</th>\n",
       "      <td>1.000000</td>\n",
       "    </tr>\n",
       "  </tbody>\n",
       "</table>\n",
       "</div>"
      ],
      "text/plain": [
       "              male\n",
       "count  7208.000000\n",
       "mean      0.357658\n",
       "std       0.479344\n",
       "min       0.000000\n",
       "25%       0.000000\n",
       "50%       0.000000\n",
       "75%       1.000000\n",
       "max       1.000000"
      ]
     },
     "metadata": {},
     "output_type": "display_data"
    },
    {
     "data": {
      "text/plain": [
       "None"
      ]
     },
     "metadata": {},
     "output_type": "display_data"
    }
   ],
   "source": [
    "df_male['male'] = 1\n",
    "df_female['male'] = 0\n",
    "df_all = df_male.append(df_female)\n",
    "df_all['name'] = df_all['name'].str.lower()\n",
    "df_all.drop_duplicates(subset=['name'], inplace=True, keep=False)\n",
    "display(df_all.head(), df_all.describe(), df_all.info())"
   ]
  },
  {
   "cell_type": "code",
   "execution_count": 6,
   "metadata": {
    "collapsed": true
   },
   "outputs": [],
   "source": [
    "from sklearn.model_selection import train_test_split"
   ]
  },
  {
   "cell_type": "code",
   "execution_count": 7,
   "metadata": {},
   "outputs": [
    {
     "data": {
      "text/plain": [
       "0    3704\n",
       "1    2062\n",
       "Name: male, dtype: int64"
      ]
     },
     "metadata": {},
     "output_type": "display_data"
    },
    {
     "data": {
      "text/plain": [
       "0    926\n",
       "1    516\n",
       "Name: male, dtype: int64"
      ]
     },
     "metadata": {},
     "output_type": "display_data"
    }
   ],
   "source": [
    "df_train, df_test = train_test_split(df_all, test_size=0.2, random_state=42, stratify=df_all['male'])\n",
    "df_train.reset_index(inplace = True, drop = True)\n",
    "df_test.reset_index(inplace = True, drop = True)\n",
    "display(df_train[\"male\"].value_counts(), df_test[\"male\"].value_counts())"
   ]
  },
  {
   "cell_type": "markdown",
   "metadata": {},
   "source": [
    "##  Часть 2. Базовый метод классификации\n",
    "\n",
    "Используйте метод наивного Байеса или логистическую регрессию для классификации имен: в качестве признаков используйте символьные $n$-граммы. Сравните результаты, получаемые при разных $n=2,3,4$ по $F$-мере и аккуратности. В каких случаях метод ошибается?\n",
    "\n",
    "Для генерации $n$-грамм используйте:"
   ]
  },
  {
   "cell_type": "code",
   "execution_count": null,
   "metadata": {
    "collapsed": true
   },
   "outputs": [],
   "source": [
    "# from nltk.util import ngrams"
   ]
  },
  {
   "cell_type": "code",
   "execution_count": 8,
   "metadata": {
    "collapsed": true
   },
   "outputs": [],
   "source": [
    "from sklearn.metrics import *\n",
    "\n",
    "def print_score(y_test, y_pred):\n",
    "    print(\"Accuracy:    {0:.2f}\".format(accuracy_score(y_test, y_pred)))  \n",
    "    print(\"F1-measure:  {0:.2f}\".format(f1_score(y_test, y_pred, average='macro')))\n",
    "    print(\"Precision:   {0:.2f}\".format(precision_score(y_test, y_pred)))\n",
    "    print(\"Recall:      {0:.2f}\".format(recall_score(y_test, y_pred)))\n",
    "    \n",
    "    print(classification_report(y_test, y_pred, target_names=['female', 'male']))"
   ]
  },
  {
   "cell_type": "code",
   "execution_count": 9,
   "metadata": {
    "collapsed": true
   },
   "outputs": [],
   "source": [
    "from sklearn.pipeline import Pipeline\n",
    "from sklearn.feature_extraction.text import CountVectorizer, TfidfTransformer\n",
    "from sklearn.naive_bayes import MultinomialNB"
   ]
  },
  {
   "cell_type": "code",
   "execution_count": 10,
   "metadata": {
    "collapsed": true
   },
   "outputs": [],
   "source": [
    "clf = Pipeline([\n",
    "    ('vectorizer', CountVectorizer(analyzer='char_wb')),\n",
    "    ('tfidf', TfidfTransformer()),    \n",
    "    ('clf', MultinomialNB()),\n",
    "])"
   ]
  },
  {
   "cell_type": "code",
   "execution_count": 11,
   "metadata": {
    "collapsed": true
   },
   "outputs": [],
   "source": [
    "from sklearn.model_selection import GridSearchCV\n",
    "from sklearn.model_selection import StratifiedKFold"
   ]
  },
  {
   "cell_type": "code",
   "execution_count": 12,
   "metadata": {},
   "outputs": [
    {
     "data": {
      "text/plain": [
       "GridSearchCV(cv=StratifiedKFold(n_splits=5, random_state=42, shuffle=True),\n",
       "       error_score='raise',\n",
       "       estimator=Pipeline(memory=None,\n",
       "     steps=[('vectorizer', CountVectorizer(analyzer='char_wb', binary=False, decode_error='strict',\n",
       "        dtype=<class 'numpy.int64'>, encoding='utf-8', input='content',\n",
       "        lowercase=True, max_df=1.0, max_features=None, min_df=1,\n",
       "        ngram_range=(1, 1), preprocessor=None, stop_words=None,\n",
       "    ...inear_tf=False, use_idf=True)), ('clf', MultinomialNB(alpha=1.0, class_prior=None, fit_prior=True))]),\n",
       "       fit_params=None, iid=True, n_jobs=-1,\n",
       "       param_grid={'clf__alpha': (0.001, 0.01, 0.1, 1), 'vectorizer__ngram_range': [(1, 1), (1, 3), (2, 2), (2, 3), (2, 4)], 'tfidf__use_idf': (True, False)},\n",
       "       pre_dispatch='2*n_jobs', refit=True, return_train_score=True,\n",
       "       scoring='f1', verbose=0)"
      ]
     },
     "execution_count": 12,
     "metadata": {},
     "output_type": "execute_result"
    }
   ],
   "source": [
    "params = {\n",
    "    'vectorizer__ngram_range': [(1, 1), (1, 3), (2, 2), (2, 3), (2, 4)],\n",
    "    'tfidf__use_idf': (True, False),    \n",
    "    'clf__alpha': (0.001, 0.01, 0.1, 1)\n",
    "}\n",
    "\n",
    "cv = StratifiedKFold(n_splits=5, shuffle=True, random_state=42)\n",
    "clf = GridSearchCV(clf, params, scoring='f1', cv=cv, n_jobs=-1)\n",
    "clf.fit(df_train['name'], df_train['male'])"
   ]
  },
  {
   "cell_type": "code",
   "execution_count": 13,
   "metadata": {},
   "outputs": [
    {
     "name": "stdout",
     "output_type": "stream",
     "text": [
      "Accuracy:    0.90\n",
      "F1-measure:  0.89\n",
      "Precision:   0.92\n",
      "Recall:      0.80\n",
      "             precision    recall  f1-score   support\n",
      "\n",
      "     female       0.90      0.96      0.93       926\n",
      "       male       0.92      0.80      0.85       516\n",
      "\n",
      "avg / total       0.90      0.90      0.90      1442\n",
      "\n"
     ]
    }
   ],
   "source": [
    "predictions = clf.best_estimator_.predict(df_test.name)\n",
    "print_score(df_test['male'].values, predictions)"
   ]
  },
  {
   "cell_type": "markdown",
   "metadata": {},
   "source": [
    "##  Часть 3. Нейронная сеть\n",
    "\n",
    "\n",
    "Используйте  реккурентную нейронную сеть с  LSTM для решения задачи. В ней может быть несколько слоев с LSTM, несколько слоев c Bidirectional(LSTM).  У нейронной сети один выход, определяющий класс имени. \n",
    "\n",
    "Представление имени для классификации в этом случае: бинарная матрица размера (количество букв в алфавите $\\times$ максимальная длина имени). Обозначим его через $x$. Если первая буква имени a, то $x[1][1] = 1$, если вторая – b, то  $x[2][1] = 1$.  \n",
    "\n",
    "Не забудьте про регуляризацию нейронной сети дропаутами. \n",
    "\n",
    "Сравните результаты классификации разными методами. Какой метод лучше и почему?\n",
    "\n",
    "Сравните результаты, получаемые при разных значениях дропаута, разных числах узлов на слоях нейронной сети по $F$-мере и аккуратности. В каких случаях нейронная сеть ошибается?"
   ]
  },
  {
   "cell_type": "markdown",
   "metadata": {},
   "source": [
    "Если совсем не получается запрограммировать нейронную сеть самостоятельно, обратитесь к туториалу тут: https://github.com/divamgupta/lstm-gender-predictor"
   ]
  },
  {
   "cell_type": "code",
   "execution_count": 14,
   "metadata": {},
   "outputs": [
    {
     "name": "stderr",
     "output_type": "stream",
     "text": [
      "Using TensorFlow backend.\n"
     ]
    }
   ],
   "source": [
    "from keras.models import Sequential\n",
    "from keras.layers import Dense, Activation, Dropout, Bidirectional\n",
    "from keras.layers import LSTM\n",
    "from keras.utils import to_categorical"
   ]
  },
  {
   "cell_type": "code",
   "execution_count": 15,
   "metadata": {},
   "outputs": [
    {
     "name": "stdout",
     "output_type": "stream",
     "text": [
      "total chars: 29\n",
      "(5766, 15, 29) (5766, 1) (1442, 15, 29) (1442, 1)\n"
     ]
    }
   ],
   "source": [
    "longest_name_length = df_all['name'].str.len().max()\n",
    "\n",
    "chars = sorted(list(set(\"\".join(df_train['name']))))\n",
    "print('total chars:', len(chars))\n",
    "char_indices = dict((c, i) for i, c in enumerate(chars))\n",
    "indices_char = dict((i, c) for i, c in enumerate(chars))\n",
    "\n",
    "X_train = np.zeros((len(df_train), longest_name_length, len(chars)), dtype=np.int)\n",
    "y_train = np.zeros((len(df_train), 1), dtype=np.int)\n",
    "\n",
    "for i in range(len(df_train)):    \n",
    "    for t, char in enumerate(df_train['name'][i]):\n",
    "        X_train[i, t, char_indices[char]] = 1\n",
    "    y_train[i] = df_train['male'][i]\n",
    "\n",
    "X_test = np.zeros((len(df_test), longest_name_length, len(chars)), dtype=np.int)\n",
    "y_test = np.zeros((len(df_test), 1), dtype=np.int)\n",
    "\n",
    "for i in range(len(df_test)):    \n",
    "    for t, char in enumerate(df_test['name'][i]):        \n",
    "        X_test[i, t, char_indices[char]] = 1\n",
    "    y_test[i] = df_test['male'][i]\n",
    "    \n",
    "print(X_train.shape, y_train.shape, X_test.shape, y_test.shape)"
   ]
  },
  {
   "cell_type": "code",
   "execution_count": 32,
   "metadata": {
    "collapsed": true
   },
   "outputs": [],
   "source": [
    "model = Sequential()\n",
    "model.add(LSTM(256, return_sequences=True, input_shape=(longest_name_length, len(chars))))\n",
    "model.add(Dropout(0.2))\n",
    "model.add(LSTM(256, return_sequences=False))\n",
    "model.add(Dropout(0.2))\n",
    "model.add(Dense(32))\n",
    "model.add(Dropout(0.2))\n",
    "model.add(Dense(2))\n",
    "model.add(Activation('softmax'))\n",
    "model.compile(loss='binary_crossentropy', optimizer='rmsprop', metrics=['accuracy'])"
   ]
  },
  {
   "cell_type": "code",
   "execution_count": 33,
   "metadata": {},
   "outputs": [
    {
     "data": {
      "image/svg+xml": [
       "<svg height=\"75pt\" viewBox=\"0.00 0.00 1869.30 75.00\" width=\"1869pt\" xmlns=\"http://www.w3.org/2000/svg\" xmlns:xlink=\"http://www.w3.org/1999/xlink\">\n",
       "<g class=\"graph\" id=\"graph0\" transform=\"scale(1 1) rotate(0) translate(4 71)\">\n",
       "<title>G</title>\n",
       "<polygon fill=\"#ffffff\" points=\"-4,4 -4,-71 1865.2959,-71 1865.2959,4 -4,4\" stroke=\"transparent\"/>\n",
       "<!-- 5106490000 -->\n",
       "<g class=\"node\" id=\"node1\">\n",
       "<title>5106490000</title>\n",
       "<polygon fill=\"none\" points=\"0,-.5 0,-66.5 195.2969,-66.5 195.2969,-.5 0,-.5\" stroke=\"#000000\"/>\n",
       "<text fill=\"#000000\" font-family=\"Times,serif\" font-size=\"14.00\" text-anchor=\"middle\" x=\"97.6484\" y=\"-51.3\">lstm_7_input: InputLayer</text>\n",
       "<polyline fill=\"none\" points=\"0,-44.5 195.2969,-44.5 \" stroke=\"#000000\"/>\n",
       "<text fill=\"#000000\" font-family=\"Times,serif\" font-size=\"14.00\" text-anchor=\"middle\" x=\"46.8345\" y=\"-29.3\">input:</text>\n",
       "<polyline fill=\"none\" points=\"93.6689,-22.5 93.6689,-44.5 \" stroke=\"#000000\"/>\n",
       "<text fill=\"#000000\" font-family=\"Times,serif\" font-size=\"14.00\" text-anchor=\"middle\" x=\"144.0034\" y=\"-29.3\">output:</text>\n",
       "<polyline fill=\"none\" points=\"0,-22.5 195.2969,-22.5 \" stroke=\"#000000\"/>\n",
       "<text fill=\"#000000\" font-family=\"Times,serif\" font-size=\"14.00\" text-anchor=\"middle\" x=\"48.8242\" y=\"-7.3\">(None, 15, 29)</text>\n",
       "<polyline fill=\"none\" points=\"97.6484,-.5 97.6484,-22.5 \" stroke=\"#000000\"/>\n",
       "<text fill=\"#000000\" font-family=\"Times,serif\" font-size=\"14.00\" text-anchor=\"middle\" x=\"146.4727\" y=\"-7.3\">(None, 15, 29)</text>\n",
       "</g>\n",
       "<!-- 5106489384 -->\n",
       "<g class=\"node\" id=\"node2\">\n",
       "<title>5106489384</title>\n",
       "<polygon fill=\"none\" points=\"231.2969,-.5 231.2969,-66.5 433.5938,-66.5 433.5938,-.5 231.2969,-.5\" stroke=\"#000000\"/>\n",
       "<text fill=\"#000000\" font-family=\"Times,serif\" font-size=\"14.00\" text-anchor=\"middle\" x=\"332.4453\" y=\"-51.3\">lstm_7: LSTM</text>\n",
       "<polyline fill=\"none\" points=\"231.2969,-44.5 433.5938,-44.5 \" stroke=\"#000000\"/>\n",
       "<text fill=\"#000000\" font-family=\"Times,serif\" font-size=\"14.00\" text-anchor=\"middle\" x=\"279.6313\" y=\"-29.3\">input:</text>\n",
       "<polyline fill=\"none\" points=\"327.9658,-22.5 327.9658,-44.5 \" stroke=\"#000000\"/>\n",
       "<text fill=\"#000000\" font-family=\"Times,serif\" font-size=\"14.00\" text-anchor=\"middle\" x=\"380.3003\" y=\"-29.3\">output:</text>\n",
       "<polyline fill=\"none\" points=\"231.2969,-22.5 433.5938,-22.5 \" stroke=\"#000000\"/>\n",
       "<text fill=\"#000000\" font-family=\"Times,serif\" font-size=\"14.00\" text-anchor=\"middle\" x=\"280.1211\" y=\"-7.3\">(None, 15, 29)</text>\n",
       "<polyline fill=\"none\" points=\"328.9453,-.5 328.9453,-22.5 \" stroke=\"#000000\"/>\n",
       "<text fill=\"#000000\" font-family=\"Times,serif\" font-size=\"14.00\" text-anchor=\"middle\" x=\"381.2695\" y=\"-7.3\">(None, 15, 256)</text>\n",
       "</g>\n",
       "<!-- 5106490000&#45;&gt;5106489384 -->\n",
       "<g class=\"edge\" id=\"edge1\">\n",
       "<title>5106490000-&gt;5106489384</title>\n",
       "<path d=\"M195.5232,-33.5C203.8429,-33.5 212.297,-33.5 220.7123,-33.5\" fill=\"none\" stroke=\"#000000\"/>\n",
       "<polygon fill=\"#000000\" points=\"220.9462,-37.0001 230.9462,-33.5 220.9461,-30.0001 220.9462,-37.0001\" stroke=\"#000000\"/>\n",
       "</g>\n",
       "<!-- 5106489496 -->\n",
       "<g class=\"node\" id=\"node3\">\n",
       "<title>5106489496</title>\n",
       "<polygon fill=\"none\" points=\"469.5938,-.5 469.5938,-66.5 678.8906,-66.5 678.8906,-.5 469.5938,-.5\" stroke=\"#000000\"/>\n",
       "<text fill=\"#000000\" font-family=\"Times,serif\" font-size=\"14.00\" text-anchor=\"middle\" x=\"574.2422\" y=\"-51.3\">dropout_8: Dropout</text>\n",
       "<polyline fill=\"none\" points=\"469.5938,-44.5 678.8906,-44.5 \" stroke=\"#000000\"/>\n",
       "<text fill=\"#000000\" font-family=\"Times,serif\" font-size=\"14.00\" text-anchor=\"middle\" x=\"519.9282\" y=\"-29.3\">input:</text>\n",
       "<polyline fill=\"none\" points=\"570.2627,-22.5 570.2627,-44.5 \" stroke=\"#000000\"/>\n",
       "<text fill=\"#000000\" font-family=\"Times,serif\" font-size=\"14.00\" text-anchor=\"middle\" x=\"624.0972\" y=\"-29.3\">output:</text>\n",
       "<polyline fill=\"none\" points=\"469.5938,-22.5 678.8906,-22.5 \" stroke=\"#000000\"/>\n",
       "<text fill=\"#000000\" font-family=\"Times,serif\" font-size=\"14.00\" text-anchor=\"middle\" x=\"521.918\" y=\"-7.3\">(None, 15, 256)</text>\n",
       "<polyline fill=\"none\" points=\"574.2422,-.5 574.2422,-22.5 \" stroke=\"#000000\"/>\n",
       "<text fill=\"#000000\" font-family=\"Times,serif\" font-size=\"14.00\" text-anchor=\"middle\" x=\"626.5664\" y=\"-7.3\">(None, 15, 256)</text>\n",
       "</g>\n",
       "<!-- 5106489384&#45;&gt;5106489496 -->\n",
       "<g class=\"edge\" id=\"edge2\">\n",
       "<title>5106489384-&gt;5106489496</title>\n",
       "<path d=\"M433.938,-33.5C442.2991,-33.5 450.7874,-33.5 459.2372,-33.5\" fill=\"none\" stroke=\"#000000\"/>\n",
       "<polygon fill=\"#000000\" points=\"459.514,-37.0001 469.5139,-33.5 459.5139,-30.0001 459.514,-37.0001\" stroke=\"#000000\"/>\n",
       "</g>\n",
       "<!-- 5106490448 -->\n",
       "<g class=\"node\" id=\"node4\">\n",
       "<title>5106490448</title>\n",
       "<polygon fill=\"none\" points=\"714.8906,-.5 714.8906,-66.5 903.1875,-66.5 903.1875,-.5 714.8906,-.5\" stroke=\"#000000\"/>\n",
       "<text fill=\"#000000\" font-family=\"Times,serif\" font-size=\"14.00\" text-anchor=\"middle\" x=\"809.0391\" y=\"-51.3\">lstm_8: LSTM</text>\n",
       "<polyline fill=\"none\" points=\"714.8906,-44.5 903.1875,-44.5 \" stroke=\"#000000\"/>\n",
       "<text fill=\"#000000\" font-family=\"Times,serif\" font-size=\"14.00\" text-anchor=\"middle\" x=\"759.7251\" y=\"-29.3\">input:</text>\n",
       "<polyline fill=\"none\" points=\"804.5596,-22.5 804.5596,-44.5 \" stroke=\"#000000\"/>\n",
       "<text fill=\"#000000\" font-family=\"Times,serif\" font-size=\"14.00\" text-anchor=\"middle\" x=\"853.394\" y=\"-29.3\">output:</text>\n",
       "<polyline fill=\"none\" points=\"714.8906,-22.5 903.1875,-22.5 \" stroke=\"#000000\"/>\n",
       "<text fill=\"#000000\" font-family=\"Times,serif\" font-size=\"14.00\" text-anchor=\"middle\" x=\"767.2148\" y=\"-7.3\">(None, 15, 256)</text>\n",
       "<polyline fill=\"none\" points=\"819.5391,-.5 819.5391,-22.5 \" stroke=\"#000000\"/>\n",
       "<text fill=\"#000000\" font-family=\"Times,serif\" font-size=\"14.00\" text-anchor=\"middle\" x=\"861.3633\" y=\"-7.3\">(None, 256)</text>\n",
       "</g>\n",
       "<!-- 5106489496&#45;&gt;5106490448 -->\n",
       "<g class=\"edge\" id=\"edge3\">\n",
       "<title>5106489496-&gt;5106490448</title>\n",
       "<path d=\"M678.937,-33.5C687.3702,-33.5 695.8919,-33.5 704.3253,-33.5\" fill=\"none\" stroke=\"#000000\"/>\n",
       "<polygon fill=\"#000000\" points=\"704.5565,-37.0001 714.5564,-33.5 704.5564,-30.0001 704.5565,-37.0001\" stroke=\"#000000\"/>\n",
       "</g>\n",
       "<!-- 5110594528 -->\n",
       "<g class=\"node\" id=\"node5\">\n",
       "<title>5110594528</title>\n",
       "<polygon fill=\"none\" points=\"939.1875,-.5 939.1875,-66.5 1106.4844,-66.5 1106.4844,-.5 939.1875,-.5\" stroke=\"#000000\"/>\n",
       "<text fill=\"#000000\" font-family=\"Times,serif\" font-size=\"14.00\" text-anchor=\"middle\" x=\"1022.8359\" y=\"-51.3\">dropout_9: Dropout</text>\n",
       "<polyline fill=\"none\" points=\"939.1875,-44.5 1106.4844,-44.5 \" stroke=\"#000000\"/>\n",
       "<text fill=\"#000000\" font-family=\"Times,serif\" font-size=\"14.00\" text-anchor=\"middle\" x=\"979.022\" y=\"-29.3\">input:</text>\n",
       "<polyline fill=\"none\" points=\"1018.8564,-22.5 1018.8564,-44.5 \" stroke=\"#000000\"/>\n",
       "<text fill=\"#000000\" font-family=\"Times,serif\" font-size=\"14.00\" text-anchor=\"middle\" x=\"1062.1909\" y=\"-29.3\">output:</text>\n",
       "<polyline fill=\"none\" points=\"939.1875,-22.5 1106.4844,-22.5 \" stroke=\"#000000\"/>\n",
       "<text fill=\"#000000\" font-family=\"Times,serif\" font-size=\"14.00\" text-anchor=\"middle\" x=\"981.0117\" y=\"-7.3\">(None, 256)</text>\n",
       "<polyline fill=\"none\" points=\"1022.8359,-.5 1022.8359,-22.5 \" stroke=\"#000000\"/>\n",
       "<text fill=\"#000000\" font-family=\"Times,serif\" font-size=\"14.00\" text-anchor=\"middle\" x=\"1064.6602\" y=\"-7.3\">(None, 256)</text>\n",
       "</g>\n",
       "<!-- 5106490448&#45;&gt;5110594528 -->\n",
       "<g class=\"edge\" id=\"edge4\">\n",
       "<title>5106490448-&gt;5110594528</title>\n",
       "<path d=\"M903.4358,-33.5C911.8657,-33.5 920.4006,-33.5 928.8272,-33.5\" fill=\"none\" stroke=\"#000000\"/>\n",
       "<polygon fill=\"#000000\" points=\"929.0376,-37.0001 939.0376,-33.5 929.0376,-30.0001 929.0376,-37.0001\" stroke=\"#000000\"/>\n",
       "</g>\n",
       "<!-- 5058822440 -->\n",
       "<g class=\"node\" id=\"node6\">\n",
       "<title>5058822440</title>\n",
       "<polygon fill=\"none\" points=\"1142.4844,-.5 1142.4844,-66.5 1302.7813,-66.5 1302.7813,-.5 1142.4844,-.5\" stroke=\"#000000\"/>\n",
       "<text fill=\"#000000\" font-family=\"Times,serif\" font-size=\"14.00\" text-anchor=\"middle\" x=\"1222.6328\" y=\"-51.3\">dense_5: Dense</text>\n",
       "<polyline fill=\"none\" points=\"1142.4844,-44.5 1302.7813,-44.5 \" stroke=\"#000000\"/>\n",
       "<text fill=\"#000000\" font-family=\"Times,serif\" font-size=\"14.00\" text-anchor=\"middle\" x=\"1180.3188\" y=\"-29.3\">input:</text>\n",
       "<polyline fill=\"none\" points=\"1218.1533,-22.5 1218.1533,-44.5 \" stroke=\"#000000\"/>\n",
       "<text fill=\"#000000\" font-family=\"Times,serif\" font-size=\"14.00\" text-anchor=\"middle\" x=\"1259.9878\" y=\"-29.3\">output:</text>\n",
       "<polyline fill=\"none\" points=\"1142.4844,-22.5 1302.7813,-22.5 \" stroke=\"#000000\"/>\n",
       "<text fill=\"#000000\" font-family=\"Times,serif\" font-size=\"14.00\" text-anchor=\"middle\" x=\"1184.3086\" y=\"-7.3\">(None, 256)</text>\n",
       "<polyline fill=\"none\" points=\"1226.1328,-.5 1226.1328,-22.5 \" stroke=\"#000000\"/>\n",
       "<text fill=\"#000000\" font-family=\"Times,serif\" font-size=\"14.00\" text-anchor=\"middle\" x=\"1264.457\" y=\"-7.3\">(None, 32)</text>\n",
       "</g>\n",
       "<!-- 5110594528&#45;&gt;5058822440 -->\n",
       "<g class=\"edge\" id=\"edge5\">\n",
       "<title>5110594528-&gt;5058822440</title>\n",
       "<path d=\"M1106.6994,-33.5C1115.0507,-33.5 1123.5555,-33.5 1131.9722,-33.5\" fill=\"none\" stroke=\"#000000\"/>\n",
       "<polygon fill=\"#000000\" points=\"1132.1786,-37.0001 1142.1786,-33.5 1132.1786,-30.0001 1132.1786,-37.0001\" stroke=\"#000000\"/>\n",
       "</g>\n",
       "<!-- 5025065392 -->\n",
       "<g class=\"node\" id=\"node7\">\n",
       "<title>5025065392</title>\n",
       "<polygon fill=\"none\" points=\"1338.7813,-.5 1338.7813,-66.5 1492.0781,-66.5 1492.0781,-.5 1338.7813,-.5\" stroke=\"#000000\"/>\n",
       "<text fill=\"#000000\" font-family=\"Times,serif\" font-size=\"14.00\" text-anchor=\"middle\" x=\"1415.4297\" y=\"-51.3\">dropout_10: Dropout</text>\n",
       "<polyline fill=\"none\" points=\"1338.7813,-44.5 1492.0781,-44.5 \" stroke=\"#000000\"/>\n",
       "<text fill=\"#000000\" font-family=\"Times,serif\" font-size=\"14.00\" text-anchor=\"middle\" x=\"1375.1157\" y=\"-29.3\">input:</text>\n",
       "<polyline fill=\"none\" points=\"1411.4502,-22.5 1411.4502,-44.5 \" stroke=\"#000000\"/>\n",
       "<text fill=\"#000000\" font-family=\"Times,serif\" font-size=\"14.00\" text-anchor=\"middle\" x=\"1451.2847\" y=\"-29.3\">output:</text>\n",
       "<polyline fill=\"none\" points=\"1338.7813,-22.5 1492.0781,-22.5 \" stroke=\"#000000\"/>\n",
       "<text fill=\"#000000\" font-family=\"Times,serif\" font-size=\"14.00\" text-anchor=\"middle\" x=\"1377.1055\" y=\"-7.3\">(None, 32)</text>\n",
       "<polyline fill=\"none\" points=\"1415.4297,-.5 1415.4297,-22.5 \" stroke=\"#000000\"/>\n",
       "<text fill=\"#000000\" font-family=\"Times,serif\" font-size=\"14.00\" text-anchor=\"middle\" x=\"1453.7539\" y=\"-7.3\">(None, 32)</text>\n",
       "</g>\n",
       "<!-- 5058822440&#45;&gt;5025065392 -->\n",
       "<g class=\"edge\" id=\"edge6\">\n",
       "<title>5058822440-&gt;5025065392</title>\n",
       "<path d=\"M1303,-33.5C1311.374,-33.5 1319.914,-33.5 1328.3577,-33.5\" fill=\"none\" stroke=\"#000000\"/>\n",
       "<polygon fill=\"#000000\" points=\"1328.5918,-37.0001 1338.5918,-33.5 1328.5917,-30.0001 1328.5918,-37.0001\" stroke=\"#000000\"/>\n",
       "</g>\n",
       "<!-- 5025466688 -->\n",
       "<g class=\"node\" id=\"node8\">\n",
       "<title>5025466688</title>\n",
       "<polygon fill=\"none\" points=\"1528.0781,-.5 1528.0781,-66.5 1674.375,-66.5 1674.375,-.5 1528.0781,-.5\" stroke=\"#000000\"/>\n",
       "<text fill=\"#000000\" font-family=\"Times,serif\" font-size=\"14.00\" text-anchor=\"middle\" x=\"1601.2266\" y=\"-51.3\">dense_6: Dense</text>\n",
       "<polyline fill=\"none\" points=\"1528.0781,-44.5 1674.375,-44.5 \" stroke=\"#000000\"/>\n",
       "<text fill=\"#000000\" font-family=\"Times,serif\" font-size=\"14.00\" text-anchor=\"middle\" x=\"1562.4126\" y=\"-29.3\">input:</text>\n",
       "<polyline fill=\"none\" points=\"1596.7471,-22.5 1596.7471,-44.5 \" stroke=\"#000000\"/>\n",
       "<text fill=\"#000000\" font-family=\"Times,serif\" font-size=\"14.00\" text-anchor=\"middle\" x=\"1635.0815\" y=\"-29.3\">output:</text>\n",
       "<polyline fill=\"none\" points=\"1528.0781,-22.5 1674.375,-22.5 \" stroke=\"#000000\"/>\n",
       "<text fill=\"#000000\" font-family=\"Times,serif\" font-size=\"14.00\" text-anchor=\"middle\" x=\"1566.4023\" y=\"-7.3\">(None, 32)</text>\n",
       "<polyline fill=\"none\" points=\"1604.7266,-.5 1604.7266,-22.5 \" stroke=\"#000000\"/>\n",
       "<text fill=\"#000000\" font-family=\"Times,serif\" font-size=\"14.00\" text-anchor=\"middle\" x=\"1639.5508\" y=\"-7.3\">(None, 2)</text>\n",
       "</g>\n",
       "<!-- 5025065392&#45;&gt;5025466688 -->\n",
       "<g class=\"edge\" id=\"edge7\">\n",
       "<title>5025065392-&gt;5025466688</title>\n",
       "<path d=\"M1492.3416,-33.5C1500.7165,-33.5 1509.2702,-33.5 1517.7192,-33.5\" fill=\"none\" stroke=\"#000000\"/>\n",
       "<polygon fill=\"#000000\" points=\"1517.9542,-37.0001 1527.9541,-33.5 1517.9541,-30.0001 1517.9542,-37.0001\" stroke=\"#000000\"/>\n",
       "</g>\n",
       "<!-- 5025536152 -->\n",
       "<g class=\"node\" id=\"node9\">\n",
       "<title>5025536152</title>\n",
       "<polygon fill=\"none\" points=\"1710.375,-.5 1710.375,-66.5 1861.2959,-66.5 1861.2959,-.5 1710.375,-.5\" stroke=\"#000000\"/>\n",
       "<text fill=\"#000000\" font-family=\"Times,serif\" font-size=\"14.00\" text-anchor=\"middle\" x=\"1785.8354\" y=\"-51.3\">activation_4: Activation</text>\n",
       "<polyline fill=\"none\" points=\"1710.375,-44.5 1861.2959,-44.5 \" stroke=\"#000000\"/>\n",
       "<text fill=\"#000000\" font-family=\"Times,serif\" font-size=\"14.00\" text-anchor=\"middle\" x=\"1746.2095\" y=\"-29.3\">input:</text>\n",
       "<polyline fill=\"none\" points=\"1782.0439,-22.5 1782.0439,-44.5 \" stroke=\"#000000\"/>\n",
       "<text fill=\"#000000\" font-family=\"Times,serif\" font-size=\"14.00\" text-anchor=\"middle\" x=\"1821.3784\" y=\"-29.3\">output:</text>\n",
       "<polyline fill=\"none\" points=\"1710.375,-22.5 1861.2959,-22.5 \" stroke=\"#000000\"/>\n",
       "<text fill=\"#000000\" font-family=\"Times,serif\" font-size=\"14.00\" text-anchor=\"middle\" x=\"1747.6992\" y=\"-7.3\">(None, 2)</text>\n",
       "<polyline fill=\"none\" points=\"1785.0234,-.5 1785.0234,-22.5 \" stroke=\"#000000\"/>\n",
       "<text fill=\"#000000\" font-family=\"Times,serif\" font-size=\"14.00\" text-anchor=\"middle\" x=\"1822.8477\" y=\"-7.3\">(None, 2)</text>\n",
       "</g>\n",
       "<!-- 5025466688&#45;&gt;5025536152 -->\n",
       "<g class=\"edge\" id=\"edge8\">\n",
       "<title>5025466688-&gt;5025536152</title>\n",
       "<path d=\"M1674.454,-33.5C1682.9195,-33.5 1691.6089,-33.5 1700.2202,-33.5\" fill=\"none\" stroke=\"#000000\"/>\n",
       "<polygon fill=\"#000000\" points=\"1700.2752,-37.0001 1710.2751,-33.5 1700.2751,-30.0001 1700.2752,-37.0001\" stroke=\"#000000\"/>\n",
       "</g>\n",
       "</g>\n",
       "</svg>"
      ],
      "text/plain": [
       "<IPython.core.display.SVG object>"
      ]
     },
     "execution_count": 33,
     "metadata": {},
     "output_type": "execute_result"
    }
   ],
   "source": [
    "from IPython.display import SVG\n",
    "from keras.utils.vis_utils import model_to_dot\n",
    "\n",
    "SVG(model_to_dot(model, show_shapes=True, rankdir='LR').create(prog='dot', format='svg'))"
   ]
  },
  {
   "cell_type": "code",
   "execution_count": 34,
   "metadata": {},
   "outputs": [
    {
     "name": "stdout",
     "output_type": "stream",
     "text": [
      "Epoch 1/30\n",
      "5766/5766 [==============================] - 19s 3ms/step - loss: 0.5398 - acc: 0.7385\n",
      "Epoch 2/30\n",
      "5766/5766 [==============================] - 16s 3ms/step - loss: 0.4815 - acc: 0.7790\n",
      "Epoch 3/30\n",
      "5766/5766 [==============================] - 17s 3ms/step - loss: 0.4551 - acc: 0.7896\n",
      "Epoch 4/30\n",
      "5766/5766 [==============================] - 17s 3ms/step - loss: 0.4369 - acc: 0.8054\n",
      "Epoch 5/30\n",
      "5766/5766 [==============================] - 17s 3ms/step - loss: 0.4120 - acc: 0.8146\n",
      "Epoch 6/30\n",
      "5766/5766 [==============================] - 16s 3ms/step - loss: 0.3951 - acc: 0.8255\n",
      "Epoch 7/30\n",
      "5766/5766 [==============================] - 16s 3ms/step - loss: 0.3714 - acc: 0.8368\n",
      "Epoch 8/30\n",
      "5766/5766 [==============================] - 16s 3ms/step - loss: 0.3578 - acc: 0.8408\n",
      "Epoch 9/30\n",
      "5766/5766 [==============================] - 17s 3ms/step - loss: 0.3460 - acc: 0.8535\n",
      "Epoch 10/30\n",
      "5766/5766 [==============================] - 16s 3ms/step - loss: 0.3340 - acc: 0.8599\n",
      "Epoch 11/30\n",
      "5766/5766 [==============================] - 16s 3ms/step - loss: 0.3196 - acc: 0.8623\n",
      "Epoch 12/30\n",
      "5766/5766 [==============================] - 18s 3ms/step - loss: 0.3013 - acc: 0.8715\n",
      "Epoch 13/30\n",
      "5766/5766 [==============================] - 16s 3ms/step - loss: 0.2884 - acc: 0.8788\n",
      "Epoch 14/30\n",
      "5766/5766 [==============================] - 16s 3ms/step - loss: 0.2777 - acc: 0.8828\n",
      "Epoch 15/30\n",
      "5766/5766 [==============================] - 16s 3ms/step - loss: 0.2682 - acc: 0.8892\n",
      "Epoch 16/30\n",
      "5766/5766 [==============================] - 16s 3ms/step - loss: 0.2503 - acc: 0.8951\n",
      "Epoch 17/30\n",
      "5766/5766 [==============================] - 16s 3ms/step - loss: 0.2365 - acc: 0.9048\n",
      "Epoch 18/30\n",
      "5766/5766 [==============================] - 16s 3ms/step - loss: 0.2241 - acc: 0.9079\n",
      "Epoch 19/30\n",
      "5766/5766 [==============================] - 16s 3ms/step - loss: 0.2123 - acc: 0.9148\n",
      "Epoch 20/30\n",
      "5766/5766 [==============================] - 16s 3ms/step - loss: 0.2044 - acc: 0.9174\n",
      "Epoch 21/30\n",
      "5766/5766 [==============================] - 17s 3ms/step - loss: 0.1932 - acc: 0.9275\n",
      "Epoch 22/30\n",
      "5766/5766 [==============================] - 17s 3ms/step - loss: 0.1821 - acc: 0.9237\n",
      "Epoch 23/30\n",
      "5766/5766 [==============================] - 18s 3ms/step - loss: 0.1688 - acc: 0.9346\n",
      "Epoch 24/30\n",
      "5766/5766 [==============================] - 16s 3ms/step - loss: 0.1657 - acc: 0.9364\n",
      "Epoch 25/30\n",
      "5766/5766 [==============================] - 16s 3ms/step - loss: 0.1476 - acc: 0.9450\n",
      "Epoch 26/30\n",
      "5766/5766 [==============================] - 17s 3ms/step - loss: 0.1383 - acc: 0.9475\n",
      "Epoch 27/30\n",
      "5766/5766 [==============================] - 16s 3ms/step - loss: 0.1163 - acc: 0.9546\n",
      "Epoch 28/30\n",
      "5766/5766 [==============================] - 16s 3ms/step - loss: 0.1189 - acc: 0.9547\n",
      "Epoch 29/30\n",
      "5766/5766 [==============================] - 16s 3ms/step - loss: 0.1194 - acc: 0.9551\n",
      "Epoch 30/30\n",
      "5766/5766 [==============================] - 16s 3ms/step - loss: 0.1123 - acc: 0.9613\n"
     ]
    },
    {
     "data": {
      "text/plain": [
       "<keras.callbacks.History at 0x12c894b70>"
      ]
     },
     "execution_count": 34,
     "metadata": {},
     "output_type": "execute_result"
    }
   ],
   "source": [
    "model.fit(X_train, y_train, batch_size=16, epochs=30)"
   ]
  },
  {
   "cell_type": "code",
   "execution_count": 35,
   "metadata": {},
   "outputs": [
    {
     "name": "stdout",
     "output_type": "stream",
     "text": [
      "Accuracy:    0.88\n",
      "F1-measure:  0.87\n",
      "Precision:   0.81\n",
      "Recall:      0.84\n",
      "             precision    recall  f1-score   support\n",
      "\n",
      "     female       0.91      0.89      0.90       926\n",
      "       male       0.81      0.84      0.83       516\n",
      "\n",
      "avg / total       0.88      0.88      0.88      1442\n",
      "\n"
     ]
    }
   ],
   "source": [
    "y_pred = model.predict_classes(X_test)\n",
    "print_score(y_test, y_pred)"
   ]
  }
 ],
 "metadata": {
  "kernelspec": {
   "display_name": "Python 3",
   "language": "python",
   "name": "python3"
  },
  "language_info": {
   "codemirror_mode": {
    "name": "ipython",
    "version": 3
   },
   "file_extension": ".py",
   "mimetype": "text/x-python",
   "name": "python",
   "nbconvert_exporter": "python",
   "pygments_lexer": "ipython3",
   "version": "3.5.4"
  }
 },
 "nbformat": 4,
 "nbformat_minor": 2
}
