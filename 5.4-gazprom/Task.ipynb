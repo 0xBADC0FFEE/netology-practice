{
 "cells": [
  {
   "cell_type": "markdown",
   "metadata": {},
   "source": [
    "# Домашнее задание по обработке текстов\n",
    "\n",
    "## Предсказание цены акции по экономическим новостям\n",
    "\n",
    "Входные данные:\n",
    "* Новости о компании \"Газпром\", начиная с 2010 года\n",
    "* Стоимость акций компании \"Газпром\" на ММВБ, начиная с 2010 года\n",
    "    * цена открытия (Open)\n",
    "    * цена закрытия (ClosingPrice)\n",
    "    * максимальная цена за день (DailyHigh)\n",
    "    * минимальная цена за день (DailyLow) \n",
    "    * объем бумаг (VolumePcs)\n"
   ]
  },
  {
   "cell_type": "code",
   "execution_count": 1,
   "metadata": {},
   "outputs": [
    {
     "data": {
      "text/html": [
       "<script>requirejs.config({paths: { 'plotly': ['https://cdn.plot.ly/plotly-latest.min']},});if(!window.Plotly) {{require(['plotly'],function(plotly) {window.Plotly=plotly;});}}</script>"
      ],
      "text/vnd.plotly.v1+html": [
       "<script>requirejs.config({paths: { 'plotly': ['https://cdn.plot.ly/plotly-latest.min']},});if(!window.Plotly) {{require(['plotly'],function(plotly) {window.Plotly=plotly;});}}</script>"
      ]
     },
     "metadata": {},
     "output_type": "display_data"
    },
    {
     "name": "stdout",
     "output_type": "stream",
     "text": [
      "Populating the interactive namespace from numpy and matplotlib\n"
     ]
    }
   ],
   "source": [
    "# plots\n",
    "from matplotlib import pyplot as plt\n",
    "import seaborn as sns\n",
    "from pylab import rcParams\n",
    "\n",
    "from plotly.offline import init_notebook_mode, iplot\n",
    "import plotly\n",
    "import plotly.graph_objs as go\n",
    "init_notebook_mode(connected=True)\n",
    "\n",
    "%config InlineBackend.figure_format = 'retina'\n",
    "%matplotlib inline\n",
    "%pylab inline\n",
    "%config InlineBackend.figure_format = 'png'\n",
    "rcParams['figure.figsize'] = (16, 6)"
   ]
  },
  {
   "cell_type": "code",
   "execution_count": 2,
   "metadata": {
    "collapsed": true
   },
   "outputs": [],
   "source": [
    "import pandas as pd"
   ]
  },
  {
   "cell_type": "code",
   "execution_count": 3,
   "metadata": {},
   "outputs": [
    {
     "data": {
      "text/html": [
       "<div>\n",
       "<style>\n",
       "    .dataframe thead tr:only-child th {\n",
       "        text-align: right;\n",
       "    }\n",
       "\n",
       "    .dataframe thead th {\n",
       "        text-align: left;\n",
       "    }\n",
       "\n",
       "    .dataframe tbody tr th {\n",
       "        vertical-align: top;\n",
       "    }\n",
       "</style>\n",
       "<table border=\"1\" class=\"dataframe\">\n",
       "  <thead>\n",
       "    <tr style=\"text-align: right;\">\n",
       "      <th></th>\n",
       "      <th>Date</th>\n",
       "      <th>Text</th>\n",
       "    </tr>\n",
       "  </thead>\n",
       "  <tbody>\n",
       "    <tr>\n",
       "      <th>0</th>\n",
       "      <td>2017-09-11</td>\n",
       "      <td>Компания рассчитывает на решение по газовому с...</td>\n",
       "    </tr>\n",
       "    <tr>\n",
       "      <th>1</th>\n",
       "      <td>2017-08-11</td>\n",
       "      <td>Как и предполагал “Ъ”, «Газпром», воспользова...</td>\n",
       "    </tr>\n",
       "    <tr>\n",
       "      <th>2</th>\n",
       "      <td>2017-01-11</td>\n",
       "      <td>Новая редакция американских санкций ставит по...</td>\n",
       "    </tr>\n",
       "    <tr>\n",
       "      <th>3</th>\n",
       "      <td>2017-10-30</td>\n",
       "      <td>Как стало известно “Ъ”, известный на рынке ри...</td>\n",
       "    </tr>\n",
       "    <tr>\n",
       "      <th>4</th>\n",
       "      <td>2017-10-23</td>\n",
       "      <td>НОВАТЭК, который через пять лет собирается за...</td>\n",
       "    </tr>\n",
       "  </tbody>\n",
       "</table>\n",
       "</div>"
      ],
      "text/plain": [
       "        Date                                               Text\n",
       "0 2017-09-11  Компания рассчитывает на решение по газовому с...\n",
       "1 2017-08-11   Как и предполагал “Ъ”, «Газпром», воспользова...\n",
       "2 2017-01-11   Новая редакция американских санкций ставит по...\n",
       "3 2017-10-30   Как стало известно “Ъ”, известный на рынке ри...\n",
       "4 2017-10-23   НОВАТЭК, который через пять лет собирается за..."
      ]
     },
     "execution_count": 3,
     "metadata": {},
     "output_type": "execute_result"
    }
   ],
   "source": [
    "df_texts = pd.read_csv('texts.csv', parse_dates=['date'])\n",
    "df_texts.columns = ['Date', 'Text']\n",
    "df_texts.head()"
   ]
  },
  {
   "cell_type": "code",
   "execution_count": 4,
   "metadata": {},
   "outputs": [
    {
     "name": "stdout",
     "output_type": "stream",
     "text": [
      "<class 'pandas.core.frame.DataFrame'>\n",
      "RangeIndex: 1203 entries, 0 to 1202\n",
      "Data columns (total 2 columns):\n",
      "Date    1203 non-null datetime64[ns]\n",
      "Text    1203 non-null object\n",
      "dtypes: datetime64[ns](1), object(1)\n",
      "memory usage: 18.9+ KB\n"
     ]
    }
   ],
   "source": [
    "df_texts.info()"
   ]
  },
  {
   "cell_type": "code",
   "execution_count": 5,
   "metadata": {},
   "outputs": [
    {
     "data": {
      "text/html": [
       "<div>\n",
       "<style>\n",
       "    .dataframe thead tr:only-child th {\n",
       "        text-align: right;\n",
       "    }\n",
       "\n",
       "    .dataframe thead th {\n",
       "        text-align: left;\n",
       "    }\n",
       "\n",
       "    .dataframe tbody tr th {\n",
       "        vertical-align: top;\n",
       "    }\n",
       "</style>\n",
       "<table border=\"1\" class=\"dataframe\">\n",
       "  <thead>\n",
       "    <tr style=\"text-align: right;\">\n",
       "      <th></th>\n",
       "      <th>Date</th>\n",
       "      <th>Open</th>\n",
       "      <th>ClosingPrice</th>\n",
       "      <th>DailyHigh</th>\n",
       "      <th>DailyLow</th>\n",
       "      <th>VolumePcs</th>\n",
       "    </tr>\n",
       "  </thead>\n",
       "  <tbody>\n",
       "    <tr>\n",
       "      <th>0</th>\n",
       "      <td>2017-08-12</td>\n",
       "      <td>133.43</td>\n",
       "      <td>132.60</td>\n",
       "      <td>133.90</td>\n",
       "      <td>132.00</td>\n",
       "      <td>16037970</td>\n",
       "    </tr>\n",
       "    <tr>\n",
       "      <th>1</th>\n",
       "      <td>2017-07-12</td>\n",
       "      <td>133.70</td>\n",
       "      <td>133.02</td>\n",
       "      <td>133.87</td>\n",
       "      <td>132.81</td>\n",
       "      <td>18198430</td>\n",
       "    </tr>\n",
       "    <tr>\n",
       "      <th>2</th>\n",
       "      <td>2017-06-12</td>\n",
       "      <td>133.33</td>\n",
       "      <td>134.00</td>\n",
       "      <td>134.29</td>\n",
       "      <td>132.91</td>\n",
       "      <td>14641730</td>\n",
       "    </tr>\n",
       "    <tr>\n",
       "      <th>3</th>\n",
       "      <td>2017-05-12</td>\n",
       "      <td>133.48</td>\n",
       "      <td>133.65</td>\n",
       "      <td>133.99</td>\n",
       "      <td>132.78</td>\n",
       "      <td>12684800</td>\n",
       "    </tr>\n",
       "    <tr>\n",
       "      <th>4</th>\n",
       "      <td>2017-04-12</td>\n",
       "      <td>133.01</td>\n",
       "      <td>133.77</td>\n",
       "      <td>134.00</td>\n",
       "      <td>131.93</td>\n",
       "      <td>17818980</td>\n",
       "    </tr>\n",
       "  </tbody>\n",
       "</table>\n",
       "</div>"
      ],
      "text/plain": [
       "        Date    Open  ClosingPrice  DailyHigh  DailyLow  VolumePcs\n",
       "0 2017-08-12  133.43        132.60     133.90    132.00   16037970\n",
       "1 2017-07-12  133.70        133.02     133.87    132.81   18198430\n",
       "2 2017-06-12  133.33        134.00     134.29    132.91   14641730\n",
       "3 2017-05-12  133.48        133.65     133.99    132.78   12684800\n",
       "4 2017-04-12  133.01        133.77     134.00    131.93   17818980"
      ]
     },
     "execution_count": 5,
     "metadata": {},
     "output_type": "execute_result"
    }
   ],
   "source": [
    "df_prices = pd.read_csv('gazprom_prices.csv', sep=';', decimal=',', parse_dates=['Date'])\n",
    "df_prices.head(5)"
   ]
  },
  {
   "cell_type": "code",
   "execution_count": 6,
   "metadata": {},
   "outputs": [
    {
     "name": "stdout",
     "output_type": "stream",
     "text": [
      "<class 'pandas.core.frame.DataFrame'>\n",
      "RangeIndex: 1988 entries, 0 to 1987\n",
      "Data columns (total 6 columns):\n",
      "Date            1988 non-null datetime64[ns]\n",
      "Open            1964 non-null float64\n",
      "ClosingPrice    1988 non-null float64\n",
      "DailyHigh       1986 non-null float64\n",
      "DailyLow        1986 non-null float64\n",
      "VolumePcs       1988 non-null int64\n",
      "dtypes: datetime64[ns](1), float64(4), int64(1)\n",
      "memory usage: 93.3 KB\n"
     ]
    }
   ],
   "source": [
    "df_prices.info()"
   ]
  },
  {
   "cell_type": "code",
   "execution_count": 7,
   "metadata": {},
   "outputs": [
    {
     "data": {
      "text/html": [
       "<div>\n",
       "<style>\n",
       "    .dataframe thead tr:only-child th {\n",
       "        text-align: right;\n",
       "    }\n",
       "\n",
       "    .dataframe thead th {\n",
       "        text-align: left;\n",
       "    }\n",
       "\n",
       "    .dataframe tbody tr th {\n",
       "        vertical-align: top;\n",
       "    }\n",
       "</style>\n",
       "<table border=\"1\" class=\"dataframe\">\n",
       "  <thead>\n",
       "    <tr style=\"text-align: right;\">\n",
       "      <th></th>\n",
       "      <th>Open</th>\n",
       "      <th>ClosingPrice</th>\n",
       "      <th>DailyHigh</th>\n",
       "      <th>DailyLow</th>\n",
       "      <th>VolumePcs</th>\n",
       "    </tr>\n",
       "  </thead>\n",
       "  <tbody>\n",
       "    <tr>\n",
       "      <th>count</th>\n",
       "      <td>1964.000000</td>\n",
       "      <td>1988.000000</td>\n",
       "      <td>1986.000000</td>\n",
       "      <td>1986.000000</td>\n",
       "      <td>1.988000e+03</td>\n",
       "    </tr>\n",
       "    <tr>\n",
       "      <th>mean</th>\n",
       "      <td>151.638396</td>\n",
       "      <td>151.535669</td>\n",
       "      <td>153.266153</td>\n",
       "      <td>149.851566</td>\n",
       "      <td>4.432934e+07</td>\n",
       "    </tr>\n",
       "    <tr>\n",
       "      <th>std</th>\n",
       "      <td>24.067928</td>\n",
       "      <td>23.939595</td>\n",
       "      <td>24.276879</td>\n",
       "      <td>23.594899</td>\n",
       "      <td>2.424019e+07</td>\n",
       "    </tr>\n",
       "    <tr>\n",
       "      <th>min</th>\n",
       "      <td>107.230000</td>\n",
       "      <td>107.170000</td>\n",
       "      <td>109.200000</td>\n",
       "      <td>106.500000</td>\n",
       "      <td>7.017140e+06</td>\n",
       "    </tr>\n",
       "    <tr>\n",
       "      <th>25%</th>\n",
       "      <td>135.897500</td>\n",
       "      <td>135.637500</td>\n",
       "      <td>136.992500</td>\n",
       "      <td>134.510000</td>\n",
       "      <td>2.731040e+07</td>\n",
       "    </tr>\n",
       "    <tr>\n",
       "      <th>50%</th>\n",
       "      <td>145.720000</td>\n",
       "      <td>145.800000</td>\n",
       "      <td>147.360000</td>\n",
       "      <td>144.225000</td>\n",
       "      <td>3.796464e+07</td>\n",
       "    </tr>\n",
       "    <tr>\n",
       "      <th>75%</th>\n",
       "      <td>162.645000</td>\n",
       "      <td>162.762500</td>\n",
       "      <td>164.372500</td>\n",
       "      <td>160.475000</td>\n",
       "      <td>5.552437e+07</td>\n",
       "    </tr>\n",
       "    <tr>\n",
       "      <th>max</th>\n",
       "      <td>243.520000</td>\n",
       "      <td>244.000000</td>\n",
       "      <td>247.470000</td>\n",
       "      <td>241.770000</td>\n",
       "      <td>2.024663e+08</td>\n",
       "    </tr>\n",
       "  </tbody>\n",
       "</table>\n",
       "</div>"
      ],
      "text/plain": [
       "              Open  ClosingPrice    DailyHigh     DailyLow     VolumePcs\n",
       "count  1964.000000   1988.000000  1986.000000  1986.000000  1.988000e+03\n",
       "mean    151.638396    151.535669   153.266153   149.851566  4.432934e+07\n",
       "std      24.067928     23.939595    24.276879    23.594899  2.424019e+07\n",
       "min     107.230000    107.170000   109.200000   106.500000  7.017140e+06\n",
       "25%     135.897500    135.637500   136.992500   134.510000  2.731040e+07\n",
       "50%     145.720000    145.800000   147.360000   144.225000  3.796464e+07\n",
       "75%     162.645000    162.762500   164.372500   160.475000  5.552437e+07\n",
       "max     243.520000    244.000000   247.470000   241.770000  2.024663e+08"
      ]
     },
     "execution_count": 7,
     "metadata": {},
     "output_type": "execute_result"
    }
   ],
   "source": [
    "df_prices.describe()"
   ]
  },
  {
   "cell_type": "markdown",
   "metadata": {},
   "source": [
    "### Часть 1. Вводная\n",
    "\n",
    "Проведите предобработку текстов: если считаете нужным, выполните токенизацию, приведение к нижнему регистру, лемматизацию и/или стемминг. Ответьте на следующие вопросы:\n",
    "* Есть ли корреляция между средней длинной текста за день и ценой закрытия?\n",
    "* Есть ли корреляция между количеством упоминаний Алексея Миллера  и ценой закрытия? Учтите разные варианты написания имени.\n",
    "* Упоминаний какого газопровода в статьях больше: \n",
    "    * \"северный поток\"\n",
    "    * \"турецкий поток\"?\n",
    "* О каких санкциях пишут в статьях?"
   ]
  },
  {
   "cell_type": "code",
   "execution_count": 8,
   "metadata": {
    "collapsed": true
   },
   "outputs": [],
   "source": [
    "def price_increased(x):\n",
    "    return 1 if x['ClosingPrice'] >= x['Open'] else 0\n",
    "\n",
    "import string\n",
    "\n",
    "from nltk.corpus import stopwords\n",
    "stop_words = stopwords.words('russian') + ['-', '-', 'это', 'наш', 'также',\n",
    "                                           'т', 'д', 'тд', 'что', 'так', 'вот',\n",
    "                                           'быть', 'как', 'в', '—', 'к', 'на', 'который']\n",
    "\n",
    "def remove_stop_words(x):\n",
    "    return ' '.join([word for word in x.split() if word not in (stop_words)])\n",
    "\n",
    "from pymystem3 import Mystem\n",
    "lemmatizer = Mystem()\n",
    "\n",
    "def lemmatize(text):\n",
    "    return ''.join(lemmatizer.lemmatize(text)).strip()"
   ]
  },
  {
   "cell_type": "code",
   "execution_count": 9,
   "metadata": {},
   "outputs": [
    {
     "data": {
      "text/html": [
       "<div>\n",
       "<style>\n",
       "    .dataframe thead tr:only-child th {\n",
       "        text-align: right;\n",
       "    }\n",
       "\n",
       "    .dataframe thead th {\n",
       "        text-align: left;\n",
       "    }\n",
       "\n",
       "    .dataframe tbody tr th {\n",
       "        vertical-align: top;\n",
       "    }\n",
       "</style>\n",
       "<table border=\"1\" class=\"dataframe\">\n",
       "  <thead>\n",
       "    <tr style=\"text-align: right;\">\n",
       "      <th></th>\n",
       "      <th>Date</th>\n",
       "      <th>Text</th>\n",
       "      <th>Open</th>\n",
       "      <th>ClosingPrice</th>\n",
       "      <th>DailyHigh</th>\n",
       "      <th>DailyLow</th>\n",
       "      <th>VolumePcs</th>\n",
       "      <th>TextProcessed</th>\n",
       "    </tr>\n",
       "  </thead>\n",
       "  <tbody>\n",
       "    <tr>\n",
       "      <th>0</th>\n",
       "      <td>2017-09-11</td>\n",
       "      <td>Компания рассчитывает на решение по газовому с...</td>\n",
       "      <td>132.31</td>\n",
       "      <td>131.50</td>\n",
       "      <td>132.82</td>\n",
       "      <td>131.14</td>\n",
       "      <td>33869650</td>\n",
       "      <td>компания рассчитывать решение газовый спор укр...</td>\n",
       "    </tr>\n",
       "    <tr>\n",
       "      <th>1</th>\n",
       "      <td>2017-08-11</td>\n",
       "      <td>Как и предполагал “Ъ”, «Газпром», воспользова...</td>\n",
       "      <td>132.00</td>\n",
       "      <td>132.30</td>\n",
       "      <td>133.94</td>\n",
       "      <td>131.58</td>\n",
       "      <td>39381960</td>\n",
       "      <td>предполагать “ъ” «газпром» воспользоваться жал...</td>\n",
       "    </tr>\n",
       "    <tr>\n",
       "      <th>2</th>\n",
       "      <td>2017-01-11</td>\n",
       "      <td>Новая редакция американских санкций ставит по...</td>\n",
       "      <td>126.40</td>\n",
       "      <td>126.50</td>\n",
       "      <td>126.89</td>\n",
       "      <td>125.97</td>\n",
       "      <td>18232550</td>\n",
       "      <td>новый редакция американский санкция ставить уг...</td>\n",
       "    </tr>\n",
       "    <tr>\n",
       "      <th>3</th>\n",
       "      <td>2017-10-30</td>\n",
       "      <td>Как стало известно “Ъ”, известный на рынке ри...</td>\n",
       "      <td>125.96</td>\n",
       "      <td>125.98</td>\n",
       "      <td>126.93</td>\n",
       "      <td>125.53</td>\n",
       "      <td>19263340</td>\n",
       "      <td>становиться известно “ъ” известный рынок рискм...</td>\n",
       "    </tr>\n",
       "    <tr>\n",
       "      <th>4</th>\n",
       "      <td>2017-10-23</td>\n",
       "      <td>НОВАТЭК, который через пять лет собирается за...</td>\n",
       "      <td>127.05</td>\n",
       "      <td>126.80</td>\n",
       "      <td>127.47</td>\n",
       "      <td>126.37</td>\n",
       "      <td>17308800</td>\n",
       "      <td>новатэк пять год собираться запускать камчатка...</td>\n",
       "    </tr>\n",
       "  </tbody>\n",
       "</table>\n",
       "</div>"
      ],
      "text/plain": [
       "        Date                                               Text    Open  \\\n",
       "0 2017-09-11  Компания рассчитывает на решение по газовому с...  132.31   \n",
       "1 2017-08-11   Как и предполагал “Ъ”, «Газпром», воспользова...  132.00   \n",
       "2 2017-01-11   Новая редакция американских санкций ставит по...  126.40   \n",
       "3 2017-10-30   Как стало известно “Ъ”, известный на рынке ри...  125.96   \n",
       "4 2017-10-23   НОВАТЭК, который через пять лет собирается за...  127.05   \n",
       "\n",
       "   ClosingPrice  DailyHigh  DailyLow  VolumePcs  \\\n",
       "0        131.50     132.82    131.14   33869650   \n",
       "1        132.30     133.94    131.58   39381960   \n",
       "2        126.50     126.89    125.97   18232550   \n",
       "3        125.98     126.93    125.53   19263340   \n",
       "4        126.80     127.47    126.37   17308800   \n",
       "\n",
       "                                       TextProcessed  \n",
       "0  компания рассчитывать решение газовый спор укр...  \n",
       "1  предполагать “ъ” «газпром» воспользоваться жал...  \n",
       "2  новый редакция американский санкция ставить уг...  \n",
       "3  становиться известно “ъ” известный рынок рискм...  \n",
       "4  новатэк пять год собираться запускать камчатка...  "
      ]
     },
     "execution_count": 9,
     "metadata": {},
     "output_type": "execute_result"
    }
   ],
   "source": [
    "df_all = pd.merge(df_texts, df_prices, on=['Date'], how='inner')\n",
    "df_all['TextProcessed'] = df_all['Text'].str.lower()\n",
    "df_all['TextProcessed'] = df_all['TextProcessed'].str.translate(dict.fromkeys(map(ord, string.punctuation)))\n",
    "df_all['TextProcessed'] = df_all['TextProcessed'].apply(lemmatize)\n",
    "df_all['TextProcessed'] = df_all['TextProcessed'].apply(remove_stop_words)\n",
    "df_all.head()"
   ]
  },
  {
   "cell_type": "markdown",
   "metadata": {},
   "source": [
    "Есть ли корреляция между средней длинной текста за день и ценой закрытия?"
   ]
  },
  {
   "cell_type": "code",
   "execution_count": 10,
   "metadata": {},
   "outputs": [
    {
     "data": {
      "text/plain": [
       "<seaborn.axisgrid.JointGrid at 0x11c5a7da0>"
      ]
     },
     "execution_count": 10,
     "metadata": {},
     "output_type": "execute_result"
    },
    {
     "data": {
      "image/png": "[encoded data removed]",
      "text/plain": [
       "<matplotlib.figure.Figure at 0x11c5a72b0>"
      ]
     },
     "metadata": {},
     "output_type": "display_data"
    }
   ],
   "source": [
    "df_wc = df_all.copy()\n",
    "df_wc['TextWC'] = df_wc['TextProcessed'].str.split().apply(lambda x: len(x))\n",
    "sns.jointplot(data=df_wc, x='TextWC', y='ClosingPrice', kind='reg')"
   ]
  },
  {
   "cell_type": "markdown",
   "metadata": {},
   "source": [
    "Есть ли корреляция между количеством упоминаний Алексея Миллера и ценой закрытия? Учтите разные варианты написания имени."
   ]
  },
  {
   "cell_type": "code",
   "execution_count": 11,
   "metadata": {},
   "outputs": [
    {
     "data": {
      "text/plain": [
       "<seaborn.axisgrid.JointGrid at 0x11ca09f98>"
      ]
     },
     "execution_count": 11,
     "metadata": {},
     "output_type": "execute_result"
    },
    {
     "data": {
      "image/png": "[encoded data removed]",
      "text/plain": [
       "<matplotlib.figure.Figure at 0x11ca094a8>"
      ]
     },
     "metadata": {},
     "output_type": "display_data"
    }
   ],
   "source": [
    "import re\n",
    "df_miller = df_all.copy()\n",
    "df_miller['MillerWC'] = df_miller['TextProcessed'].str.count('миллер')\n",
    "sns.jointplot(data=df_miller, x='MillerWC', y='ClosingPrice', kind='reg')"
   ]
  },
  {
   "cell_type": "markdown",
   "metadata": {},
   "source": [
    "Упоминаний какого газопровода в статьях больше: \n",
    "* \"северный поток\"\n",
    "* \"турецкий поток\"?"
   ]
  },
  {
   "cell_type": "code",
   "execution_count": 12,
   "metadata": {},
   "outputs": [
    {
     "name": "stdout",
     "output_type": "stream",
     "text": [
      "северный поток 15\n",
      "турецкий поток 39\n"
     ]
    }
   ],
   "source": [
    "print('северный поток', df_all['TextProcessed'].str.count('северный поток').sum())\n",
    "print('турецкий поток', df_all['TextProcessed'].str.count('турецкий поток').sum())"
   ]
  },
  {
   "cell_type": "markdown",
   "metadata": {},
   "source": [
    "О каких санкциях пишут в статьях?"
   ]
  },
  {
   "cell_type": "code",
   "execution_count": 13,
   "metadata": {},
   "outputs": [
    {
     "name": "stdout",
     "output_type": "stream",
     "text": [
      "западный санкция\n",
      "антироссийский санкция\n",
      "секторальный санкция\n",
      "персональный санкция\n",
      "американский санкция\n",
      "экономический санкция\n",
      "международный санкция\n",
      "штрафной санкция\n",
      "финансовый санкция\n",
      "очередной санкция\n"
     ]
    }
   ],
   "source": [
    "from pymorphy2 import MorphAnalyzer\n",
    "from sklearn.feature_extraction.text import CountVectorizer\n",
    "\n",
    "cv = CountVectorizer(ngram_range=(2, 2))\n",
    "cv.fit(df_all['TextProcessed'])\n",
    "\n",
    "morph = MorphAnalyzer()\n",
    "\n",
    "for s in cv.vocabulary_:\n",
    "    w1, w2 = s.split()\n",
    "    if w2 == 'санкция' and 'ADJF' in morph.parse(w1)[0].tag:\n",
    "            print(s)"
   ]
  },
  {
   "cell_type": "markdown",
   "metadata": {},
   "source": [
    "## Часть 2. Классификационная\n",
    "Вам предстоит решить следующую задачу: по текстам новостей за день определить, вырастет или понизится цена закрытия.\n",
    "Для этого:\n",
    "* бинаризуйте признак \"цена закрытия\":  новый признак ClosingPrice_bin равен 1, если по сравнению со вчера цена не упала, и 0 – в обратном случаея;\n",
    "* составьте бучающее и тестовое множество: данные до начала 2016 года используются для обучения, данные с 2016 года и позже – для тестирования.\n",
    "\n",
    "Таким образом, в каждлый момент времени мы знаем: \n",
    "* ClosingPrice_bin – бинарый целевой признак\n",
    "* слова из статей, опубликованных в этот день – объясняющие признаки\n",
    "\n",
    "В этой части задания вам нужно сделать baseline алгоритм и попытаться его улучшить в следующей части. \n",
    "\n",
    "Используйте любой известный вам алгоритм классификации текстов для того, Используйте $tf-idf$ преобразование, сингулярное разложение, нормировку признакого пространства и любые другие техники обработки данных, которые вы считаете нужным. Используйте accuracy и F-measure для оценки качества классификации. Покажите, как  $tf-idf$ преобразование или сингулярное разложение или любая другая использованная вами техника влияет на качество классификации.\n",
    "Если у выбранного вами алгоритма есть гиперпараметры (например, $\\alpha$ в преобразовании Лапласа для метода наивного Байеса), покажите, как изменение гиперпараметра влияет на качество классификации."
   ]
  },
  {
   "cell_type": "code",
   "execution_count": 14,
   "metadata": {},
   "outputs": [
    {
     "data": {
      "text/html": [
       "<div>\n",
       "<style>\n",
       "    .dataframe thead tr:only-child th {\n",
       "        text-align: right;\n",
       "    }\n",
       "\n",
       "    .dataframe thead th {\n",
       "        text-align: left;\n",
       "    }\n",
       "\n",
       "    .dataframe tbody tr th {\n",
       "        vertical-align: top;\n",
       "    }\n",
       "</style>\n",
       "<table border=\"1\" class=\"dataframe\">\n",
       "  <thead>\n",
       "    <tr style=\"text-align: right;\">\n",
       "      <th></th>\n",
       "      <th>Date</th>\n",
       "      <th>Text</th>\n",
       "      <th>Open</th>\n",
       "      <th>ClosingPrice</th>\n",
       "      <th>DailyHigh</th>\n",
       "      <th>DailyLow</th>\n",
       "      <th>VolumePcs</th>\n",
       "      <th>TextProcessed</th>\n",
       "      <th>ClosingPrice_bin</th>\n",
       "    </tr>\n",
       "  </thead>\n",
       "  <tbody>\n",
       "    <tr>\n",
       "      <th>0</th>\n",
       "      <td>2017-09-11</td>\n",
       "      <td>Компания рассчитывает на решение по газовому с...</td>\n",
       "      <td>132.31</td>\n",
       "      <td>131.50</td>\n",
       "      <td>132.82</td>\n",
       "      <td>131.14</td>\n",
       "      <td>33869650</td>\n",
       "      <td>компания рассчитывать решение газовый спор укр...</td>\n",
       "      <td>0</td>\n",
       "    </tr>\n",
       "    <tr>\n",
       "      <th>1</th>\n",
       "      <td>2017-08-11</td>\n",
       "      <td>Как и предполагал “Ъ”, «Газпром», воспользова...</td>\n",
       "      <td>132.00</td>\n",
       "      <td>132.30</td>\n",
       "      <td>133.94</td>\n",
       "      <td>131.58</td>\n",
       "      <td>39381960</td>\n",
       "      <td>предполагать “ъ” «газпром» воспользоваться жал...</td>\n",
       "      <td>1</td>\n",
       "    </tr>\n",
       "    <tr>\n",
       "      <th>2</th>\n",
       "      <td>2017-01-11</td>\n",
       "      <td>Новая редакция американских санкций ставит по...</td>\n",
       "      <td>126.40</td>\n",
       "      <td>126.50</td>\n",
       "      <td>126.89</td>\n",
       "      <td>125.97</td>\n",
       "      <td>18232550</td>\n",
       "      <td>новый редакция американский санкция ставить уг...</td>\n",
       "      <td>1</td>\n",
       "    </tr>\n",
       "    <tr>\n",
       "      <th>3</th>\n",
       "      <td>2017-10-30</td>\n",
       "      <td>Как стало известно “Ъ”, известный на рынке ри...</td>\n",
       "      <td>125.96</td>\n",
       "      <td>125.98</td>\n",
       "      <td>126.93</td>\n",
       "      <td>125.53</td>\n",
       "      <td>19263340</td>\n",
       "      <td>становиться известно “ъ” известный рынок рискм...</td>\n",
       "      <td>1</td>\n",
       "    </tr>\n",
       "    <tr>\n",
       "      <th>4</th>\n",
       "      <td>2017-10-23</td>\n",
       "      <td>НОВАТЭК, который через пять лет собирается за...</td>\n",
       "      <td>127.05</td>\n",
       "      <td>126.80</td>\n",
       "      <td>127.47</td>\n",
       "      <td>126.37</td>\n",
       "      <td>17308800</td>\n",
       "      <td>новатэк пять год собираться запускать камчатка...</td>\n",
       "      <td>0</td>\n",
       "    </tr>\n",
       "  </tbody>\n",
       "</table>\n",
       "</div>"
      ],
      "text/plain": [
       "        Date                                               Text    Open  \\\n",
       "0 2017-09-11  Компания рассчитывает на решение по газовому с...  132.31   \n",
       "1 2017-08-11   Как и предполагал “Ъ”, «Газпром», воспользова...  132.00   \n",
       "2 2017-01-11   Новая редакция американских санкций ставит по...  126.40   \n",
       "3 2017-10-30   Как стало известно “Ъ”, известный на рынке ри...  125.96   \n",
       "4 2017-10-23   НОВАТЭК, который через пять лет собирается за...  127.05   \n",
       "\n",
       "   ClosingPrice  DailyHigh  DailyLow  VolumePcs  \\\n",
       "0        131.50     132.82    131.14   33869650   \n",
       "1        132.30     133.94    131.58   39381960   \n",
       "2        126.50     126.89    125.97   18232550   \n",
       "3        125.98     126.93    125.53   19263340   \n",
       "4        126.80     127.47    126.37   17308800   \n",
       "\n",
       "                                       TextProcessed  ClosingPrice_bin  \n",
       "0  компания рассчитывать решение газовый спор укр...                 0  \n",
       "1  предполагать “ъ” «газпром» воспользоваться жал...                 1  \n",
       "2  новый редакция американский санкция ставить уг...                 1  \n",
       "3  становиться известно “ъ” известный рынок рискм...                 1  \n",
       "4  новатэк пять год собираться запускать камчатка...                 0  "
      ]
     },
     "execution_count": 14,
     "metadata": {},
     "output_type": "execute_result"
    }
   ],
   "source": [
    "df_all['ClosingPrice_bin'] = df_all.apply(price_increased, axis=1)\n",
    "df_all.head()"
   ]
  },
  {
   "cell_type": "code",
   "execution_count": 15,
   "metadata": {},
   "outputs": [
    {
     "data": {
      "text/plain": [
       "((901, 9), (258, 9))"
      ]
     },
     "execution_count": 15,
     "metadata": {},
     "output_type": "execute_result"
    }
   ],
   "source": [
    "df_train = df_all[df_all['Date'] < pd.Timestamp('2016')].reset_index(drop=True)\n",
    "df_test = df_all[df_all['Date'] >= pd.Timestamp('2016')].reset_index(drop=True)\n",
    "df_train.shape, df_test.shape"
   ]
  },
  {
   "cell_type": "code",
   "execution_count": 16,
   "metadata": {
    "collapsed": true
   },
   "outputs": [],
   "source": [
    "from sklearn.metrics import *"
   ]
  },
  {
   "cell_type": "code",
   "execution_count": 17,
   "metadata": {
    "collapsed": true
   },
   "outputs": [],
   "source": [
    "def print_score(y_test, y_pred):\n",
    "    print(\"Accuracy:    {0:.2f}\".format(accuracy_score(y_test, y_pred)))  \n",
    "    print(\"F1-measure:  {0:.2f}\".format(f1_score(y_test, y_pred)))\n",
    "    print(\"Precision:   {0:.2f}\".format(precision_score(y_test, y_pred)))\n",
    "    print(\"Recall:      {0:.2f}\".format(recall_score(y_test, y_pred)))\n",
    "    \n",
    "    print(classification_report(df_test['ClosingPrice_bin'], y_pred))"
   ]
  },
  {
   "cell_type": "code",
   "execution_count": 18,
   "metadata": {},
   "outputs": [
    {
     "name": "stdout",
     "output_type": "stream",
     "text": [
      "Pipeline(memory=None,\n",
      "     steps=[('vectorizer', CountVectorizer(analyzer='word', binary=False, decode_error='strict',\n",
      "        dtype=<class 'numpy.int64'>, encoding='utf-8', input='content',\n",
      "        lowercase=True, max_df=1.0, max_features=None, min_df=1,\n",
      "        ngram_range=(1, 1), preprocessor=None, stop_words=None,\n",
      "       ...ear_tf=False, use_idf=True)), ('clf', MultinomialNB(alpha=0.001, class_prior=None, fit_prior=True))])\n",
      "Accuracy:    0.49\n",
      "F1-measure:  0.41\n",
      "Precision:   0.44\n",
      "Recall:      0.38\n",
      "             precision    recall  f1-score   support\n",
      "\n",
      "          0       0.53      0.59      0.56       140\n",
      "          1       0.44      0.38      0.41       118\n",
      "\n",
      "avg / total       0.49      0.49      0.49       258\n",
      "\n"
     ]
    }
   ],
   "source": [
    "from sklearn.model_selection import GridSearchCV\n",
    "from sklearn.pipeline import Pipeline\n",
    "from sklearn.naive_bayes import MultinomialNB\n",
    "from sklearn.metrics import *\n",
    "from sklearn.feature_extraction.text import *\n",
    "\n",
    "clf = Pipeline([\n",
    "    ('vectorizer', CountVectorizer()),\n",
    "    ('tfidf', TfidfTransformer()),    \n",
    "    ('clf', MultinomialNB()),\n",
    "])\n",
    "\n",
    "params = {\n",
    "    'vectorizer__ngram_range': [(1, 1), (1, 3), (2, 2), (2, 3), (2, 4)],\n",
    "    'tfidf__use_idf': (True, False),    \n",
    "    'clf__alpha': (0.001, 0.01, 0.1, 1, 2)\n",
    "}\n",
    "\n",
    "clf = GridSearchCV(clf, params, scoring='f1', cv=5, n_jobs=-1)\n",
    "clf.fit(df_train['TextProcessed'], df_train['ClosingPrice_bin'])\n",
    "print(clf.best_estimator_)\n",
    "print_score(df_test['ClosingPrice_bin'], clf.best_estimator_.predict(df_test['TextProcessed']))"
   ]
  },
  {
   "cell_type": "markdown",
   "metadata": {},
   "source": [
    "## Часть 3. Творческая\n",
    "Придумайте и попытайтесь сделать еще что-нибудь, чтобы улучшить качество классификации. \n",
    "Направления развития:\n",
    "* Морфологический признаки: \n",
    "    * использовать в качестве признаков только существительные или только именованные сущности;\n",
    "* Модели скрытых тем:\n",
    "    * использовать в качестве признаков скрытые темы;\n",
    "    * использовать в качестве признаков динамические скрытые темы \n",
    "    пример тут: (https://github.com/RaRe-Technologies/gensim/blob/develop/docs/notebooks/dtm_example.ipynb)\n",
    "* Синтаксические признаки:\n",
    "    * использовать SOV-тройки в качестве признаков\n",
    "    * кластеризовать SOV-тройки по эмбеддингам глаголов (обученные word2vec модели можно скачать отсюда: (http://rusvectores.org/ru/models/) и использовать только центроиды кластеров в качестве признаков\n",
    "* что-нибудь еще     "
   ]
  },
  {
   "cell_type": "markdown",
   "metadata": {},
   "source": [
    "## Fasttext"
   ]
  },
  {
   "cell_type": "code",
   "execution_count": 19,
   "metadata": {},
   "outputs": [
    {
     "name": "stdout",
     "output_type": "stream",
     "text": [
      "Raw Text:\n",
      "Precision 0.5503875968992248\n",
      "Recall 0.5503875968992248\n",
      "Processed Text:\n",
      "Precision 0.5193798449612403\n",
      "Recall 0.5193798449612403\n"
     ]
    }
   ],
   "source": [
    "import fasttext\n",
    "\n",
    "with open('train_raw.txt', 'w') as ftrain:\n",
    "    for i, row in df_train.iterrows():\n",
    "        ftrain.write('%s __label__%s\\n' % (re.sub('\\n', ' ', row['Text']), row['ClosingPrice_bin']))\n",
    "                \n",
    "with open('test_raw.txt', 'w') as ftest:\n",
    "    for i, row in df_test.iterrows():\n",
    "        ftest.write('%s __label__%s\\n' % (re.sub('\\n', ' ', row['Text']), row['ClosingPrice_bin']))\n",
    "        \n",
    "classifier = fasttext.supervised('train_raw.txt', 'model')\n",
    "result = classifier.test('test_raw.txt')\n",
    "\n",
    "print('Raw Text:')\n",
    "print('Precision', result.precision)\n",
    "print('Recall', result.recall)\n",
    "\n",
    "# And now on preprocessed\n",
    "\n",
    "with open('train_processed.txt', 'w') as ftrain:\n",
    "    for i, row in df_train.iterrows():\n",
    "        ftrain.write('%s __label__%s\\n' % (row['TextProcessed'], row['ClosingPrice_bin']))\n",
    "                \n",
    "with open('test_processed.txt', 'w') as ftest:\n",
    "    for i, row in df_test.iterrows():\n",
    "        ftest.write('%s __label__%s\\n' % (row['TextProcessed'], row['ClosingPrice_bin']))\n",
    "        \n",
    "classifier = fasttext.supervised('train_processed.txt', 'model')\n",
    "\n",
    "result = classifier.test('test_processed.txt')\n",
    "\n",
    "print('Processed Text:')\n",
    "print('Precision', result.precision)\n",
    "print('Recall', result.recall)"
   ]
  },
  {
   "cell_type": "markdown",
   "metadata": {},
   "source": [
    "## CNN"
   ]
  },
  {
   "cell_type": "code",
   "execution_count": 21,
   "metadata": {},
   "outputs": [
    {
     "name": "stderr",
     "output_type": "stream",
     "text": [
      "Using TensorFlow backend.\n"
     ]
    }
   ],
   "source": [
    "from keras.preprocessing.text import Tokenizer\n",
    "from keras.preprocessing.sequence import pad_sequences\n",
    "from keras.utils import to_categorical\n",
    "from keras.models import Model, Sequential\n",
    "from keras.layers import Embedding, Input, Conv1D, MaxPooling1D, Flatten, Dense, Dropout"
   ]
  },
  {
   "cell_type": "code",
   "execution_count": 160,
   "metadata": {
    "collapsed": true
   },
   "outputs": [],
   "source": [
    "TEXT_LENGTH = 200\n",
    "VOCABULARY_SIZE = 25000\n",
    "EMBEDDING_DIM = 128\n",
    "batch_size = 32\n",
    "\n",
    "nb_epoch = 20"
   ]
  },
  {
   "cell_type": "code",
   "execution_count": 161,
   "metadata": {},
   "outputs": [
    {
     "name": "stdout",
     "output_type": "stream",
     "text": [
      "Shape of data tensor: (901, 200)\n",
      "Shape of label tensor: (901, 2)\n",
      "Shape of data tensor: (258, 200)\n",
      "Shape of label tensor: (258, 2)\n"
     ]
    }
   ],
   "source": [
    "tokenizer = Tokenizer(num_words=VOCABULARY_SIZE)\n",
    "tokenizer.fit_on_texts(df_train['Text'])\n",
    "\n",
    "X_train = pad_sequences(tokenizer.texts_to_sequences(df_train['Text']), maxlen=TEXT_LENGTH)\n",
    "X_test = pad_sequences(tokenizer.texts_to_sequences(df_test['Text']), maxlen=TEXT_LENGTH)\n",
    "\n",
    "y_train = to_categorical(df_train['ClosingPrice_bin'], 2)\n",
    "y_test = to_categorical(df_test['ClosingPrice_bin'], 2)\n",
    "\n",
    "print('Shape of data tensor:', X_train.shape)\n",
    "print('Shape of label tensor:', y_train.shape)\n",
    "print('Shape of data tensor:', X_test.shape)\n",
    "print('Shape of label tensor:', y_test.shape)"
   ]
  },
  {
   "cell_type": "code",
   "execution_count": 162,
   "metadata": {},
   "outputs": [
    {
     "name": "stdout",
     "output_type": "stream",
     "text": [
      "Train on 810 samples, validate on 91 samples\n",
      "Epoch 1/20\n",
      "810/810 [==============================] - 4s 5ms/step - loss: 0.6955 - acc: 0.5136 - val_loss: 0.6990 - val_acc: 0.4396\n",
      "Epoch 2/20\n",
      "810/810 [==============================] - 2s 2ms/step - loss: 0.6750 - acc: 0.6049 - val_loss: 0.6945 - val_acc: 0.5385\n",
      "Epoch 3/20\n",
      "810/810 [==============================] - 2s 2ms/step - loss: 0.6505 - acc: 0.6975 - val_loss: 0.6947 - val_acc: 0.5385\n",
      "Epoch 4/20\n",
      "810/810 [==============================] - 2s 3ms/step - loss: 0.6210 - acc: 0.8407 - val_loss: 0.6927 - val_acc: 0.5055\n",
      "Epoch 5/20\n",
      "810/810 [==============================] - 2s 3ms/step - loss: 0.5786 - acc: 0.9210 - val_loss: 0.7024 - val_acc: 0.5495\n",
      "Epoch 6/20\n",
      "810/810 [==============================] - 2s 3ms/step - loss: 0.5213 - acc: 0.9531 - val_loss: 0.7014 - val_acc: 0.5495\n",
      "Epoch 7/20\n",
      "810/810 [==============================] - 2s 3ms/step - loss: 0.4467 - acc: 0.9531 - val_loss: 0.7098 - val_acc: 0.4725\n",
      "Epoch 8/20\n",
      "810/810 [==============================] - 2s 3ms/step - loss: 0.3656 - acc: 0.9840 - val_loss: 0.7067 - val_acc: 0.5385\n",
      "Epoch 9/20\n",
      "810/810 [==============================] - 2s 3ms/step - loss: 0.2854 - acc: 0.9877 - val_loss: 0.7146 - val_acc: 0.4835\n",
      "Epoch 10/20\n",
      "810/810 [==============================] - 2s 3ms/step - loss: 0.2123 - acc: 0.9963 - val_loss: 0.7312 - val_acc: 0.4505\n",
      "Epoch 11/20\n",
      "810/810 [==============================] - 2s 2ms/step - loss: 0.1563 - acc: 0.9988 - val_loss: 0.7501 - val_acc: 0.4615\n",
      "Epoch 12/20\n",
      "810/810 [==============================] - 2s 2ms/step - loss: 0.1145 - acc: 0.9988 - val_loss: 0.7412 - val_acc: 0.5385\n",
      "Epoch 13/20\n",
      "810/810 [==============================] - 2s 2ms/step - loss: 0.0835 - acc: 1.0000 - val_loss: 0.7625 - val_acc: 0.4615\n",
      "Epoch 14/20\n",
      "810/810 [==============================] - 2s 2ms/step - loss: 0.0628 - acc: 1.0000 - val_loss: 0.7980 - val_acc: 0.5495\n",
      "Epoch 15/20\n",
      "810/810 [==============================] - 2s 3ms/step - loss: 0.0472 - acc: 1.0000 - val_loss: 0.8105 - val_acc: 0.5714\n",
      "Epoch 16/20\n",
      "810/810 [==============================] - 2s 3ms/step - loss: 0.0353 - acc: 1.0000 - val_loss: 0.7828 - val_acc: 0.5165\n",
      "Epoch 17/20\n",
      "810/810 [==============================] - 2s 3ms/step - loss: 0.0273 - acc: 1.0000 - val_loss: 0.8222 - val_acc: 0.5604\n",
      "Epoch 18/20\n",
      "810/810 [==============================] - 3s 3ms/step - loss: 0.0212 - acc: 1.0000 - val_loss: 0.8066 - val_acc: 0.5275\n",
      "Epoch 19/20\n",
      "810/810 [==============================] - 2s 2ms/step - loss: 0.0164 - acc: 1.0000 - val_loss: 0.8135 - val_acc: 0.4945\n",
      "Epoch 20/20\n",
      "810/810 [==============================] - 2s 2ms/step - loss: 0.0129 - acc: 1.0000 - val_loss: 0.8326 - val_acc: 0.5275\n"
     ]
    },
    {
     "data": {
      "text/plain": [
       "<keras.callbacks.History at 0x212e3cd68>"
      ]
     },
     "execution_count": 162,
     "metadata": {},
     "output_type": "execute_result"
    }
   ],
   "source": [
    "embedding_layer = Embedding(VOCABULARY_SIZE, EMBEDDING_DIM, input_length=TEXT_LENGTH, trainable=True)\n",
    "sequence_input = Input(shape=(TEXT_LENGTH,), dtype='int32')\n",
    "embedded_sequences = embedding_layer(sequence_input)\n",
    "x = Conv1D(128, 4, activation='relu')(embedded_sequences)\n",
    "# x = MaxPooling1D(4)(x)\n",
    "x = Dropout(0.2)(x)\n",
    "x = Flatten()(x)\n",
    "preds = Dense(2, activation='softmax')(x)\n",
    "\n",
    "model = Model(sequence_input, preds)\n",
    "model.compile(loss='categorical_crossentropy', optimizer='adadelta', metrics=['acc'])\n",
    "\n",
    "model.fit(X_train, y_train, epochs=nb_epoch, batch_size=batch_size, validation_split=0.1)"
   ]
  },
  {
   "cell_type": "code",
   "execution_count": 163,
   "metadata": {},
   "outputs": [
    {
     "name": "stdout",
     "output_type": "stream",
     "text": [
      "Accuracy:    0.48\n",
      "F1-measure:  0.41\n",
      "Precision:   0.42\n",
      "Recall:      0.40\n",
      "             precision    recall  f1-score   support\n",
      "\n",
      "          0       0.52      0.54      0.53       140\n",
      "          1       0.42      0.40      0.41       118\n",
      "\n",
      "avg / total       0.47      0.48      0.48       258\n",
      "\n"
     ]
    }
   ],
   "source": [
    "predictions = model.predict(X_test)\n",
    "\n",
    "def probs_to_classes(probas):\n",
    "    classes = np.zeros(probas.shape, dtype=np.int)\n",
    "    for i, row in enumerate(probas):\n",
    "        classes[i, np.argmax(row)] = 1\n",
    "    return classes\n",
    "\n",
    "y_pred = probs_to_classes(predictions)\n",
    "\n",
    "print_score(y_test[:, 1], y_pred[:, 1])"
   ]
  },
  {
   "cell_type": "markdown",
   "metadata": {},
   "source": [
    "## NN"
   ]
  },
  {
   "cell_type": "code",
   "execution_count": 151,
   "metadata": {},
   "outputs": [],
   "source": [
    "MAX_FEATURES = 5000\n",
    "tokenizer = Tokenizer(num_words=MAX_FEATURES)\n",
    "tokenizer.fit_on_texts(df_train['Text'])\n",
    "\n",
    "X_train = tokenizer.sequences_to_matrix(tokenizer.texts_to_sequences(df_train['Text']), mode='count')\n",
    "X_test = tokenizer.sequences_to_matrix(tokenizer.texts_to_sequences(df_test['Text']), mode='count')\n",
    "\n",
    "y_train = to_categorical(df_train['ClosingPrice_bin'], 2)\n",
    "y_test = to_categorical(df_test['ClosingPrice_bin'], 2)"
   ]
  },
  {
   "cell_type": "code",
   "execution_count": 158,
   "metadata": {},
   "outputs": [
    {
     "name": "stdout",
     "output_type": "stream",
     "text": [
      "Train on 810 samples, validate on 91 samples\n",
      "Epoch 1/20\n",
      "810/810 [==============================] - 2s 2ms/step - loss: 0.7166 - acc: 0.4790 - val_loss: 0.7054 - val_acc: 0.5165\n",
      "Epoch 2/20\n",
      "810/810 [==============================] - 0s 214us/step - loss: 0.3860 - acc: 0.9395 - val_loss: 0.7399 - val_acc: 0.4945\n",
      "Epoch 3/20\n",
      "810/810 [==============================] - 0s 207us/step - loss: 0.2135 - acc: 0.9852 - val_loss: 0.8150 - val_acc: 0.5385\n",
      "Epoch 4/20\n",
      "810/810 [==============================] - 0s 209us/step - loss: 0.1094 - acc: 0.9951 - val_loss: 0.9168 - val_acc: 0.5275\n",
      "Epoch 5/20\n",
      "810/810 [==============================] - 0s 203us/step - loss: 0.0555 - acc: 1.0000 - val_loss: 1.0102 - val_acc: 0.4945\n",
      "Epoch 6/20\n",
      "810/810 [==============================] - 0s 205us/step - loss: 0.0302 - acc: 1.0000 - val_loss: 1.0694 - val_acc: 0.4945\n",
      "Epoch 7/20\n",
      "810/810 [==============================] - 0s 204us/step - loss: 0.0186 - acc: 1.0000 - val_loss: 1.1856 - val_acc: 0.4945\n",
      "Epoch 8/20\n",
      "810/810 [==============================] - 0s 205us/step - loss: 0.0125 - acc: 1.0000 - val_loss: 1.2396 - val_acc: 0.4945\n",
      "Epoch 9/20\n",
      "810/810 [==============================] - 0s 204us/step - loss: 0.0087 - acc: 1.0000 - val_loss: 1.3157 - val_acc: 0.4945\n",
      "Epoch 10/20\n",
      "810/810 [==============================] - 0s 207us/step - loss: 0.0067 - acc: 1.0000 - val_loss: 1.3593 - val_acc: 0.4725\n",
      "Epoch 11/20\n",
      "810/810 [==============================] - 0s 230us/step - loss: 0.0052 - acc: 1.0000 - val_loss: 1.4091 - val_acc: 0.4945\n",
      "Epoch 12/20\n",
      "810/810 [==============================] - 0s 249us/step - loss: 0.0042 - acc: 1.0000 - val_loss: 1.4609 - val_acc: 0.4835\n",
      "Epoch 13/20\n",
      "810/810 [==============================] - 0s 244us/step - loss: 0.0033 - acc: 1.0000 - val_loss: 1.4957 - val_acc: 0.4945\n",
      "Epoch 14/20\n",
      "810/810 [==============================] - 0s 244us/step - loss: 0.0029 - acc: 1.0000 - val_loss: 1.5288 - val_acc: 0.4945\n",
      "Epoch 15/20\n",
      "810/810 [==============================] - 0s 226us/step - loss: 0.0024 - acc: 1.0000 - val_loss: 1.5679 - val_acc: 0.4945\n",
      "Epoch 16/20\n",
      "810/810 [==============================] - 0s 281us/step - loss: 0.0021 - acc: 1.0000 - val_loss: 1.5956 - val_acc: 0.4945\n",
      "Epoch 17/20\n",
      "810/810 [==============================] - 0s 309us/step - loss: 0.0018 - acc: 1.0000 - val_loss: 1.6225 - val_acc: 0.4945\n",
      "Epoch 18/20\n",
      "810/810 [==============================] - 0s 247us/step - loss: 0.0016 - acc: 1.0000 - val_loss: 1.6515 - val_acc: 0.4945\n",
      "Epoch 19/20\n",
      "810/810 [==============================] - 0s 237us/step - loss: 0.0013 - acc: 1.0000 - val_loss: 1.6840 - val_acc: 0.4945\n",
      "Epoch 20/20\n",
      "810/810 [==============================] - 0s 214us/step - loss: 0.0012 - acc: 1.0000 - val_loss: 1.7058 - val_acc: 0.4945\n"
     ]
    },
    {
     "data": {
      "text/plain": [
       "<keras.callbacks.History at 0x212b1fdd8>"
      ]
     },
     "execution_count": 158,
     "metadata": {},
     "output_type": "execute_result"
    }
   ],
   "source": [
    "model = Sequential()\n",
    "model.add(Dense(128, input_shape=(MAX_FEATURES,), activation = 'relu'))\n",
    "model.add(Dropout(0.1))\n",
    "model.add(Dense(2, activation = 'softmax'))\n",
    "model.compile(loss='categorical_crossentropy', optimizer='adam', metrics=['accuracy'])\n",
    "model.fit(X_train, y_train, epochs=nb_epoch, batch_size=batch_size, validation_split=0.1)"
   ]
  },
  {
   "cell_type": "code",
   "execution_count": 159,
   "metadata": {},
   "outputs": [
    {
     "name": "stdout",
     "output_type": "stream",
     "text": [
      "Accuracy:    0.54\n",
      "F1-measure:  0.48\n",
      "Precision:   0.50\n",
      "Recall:      0.47\n",
      "             precision    recall  f1-score   support\n",
      "\n",
      "          0       0.57      0.60      0.59       140\n",
      "          1       0.50      0.47      0.48       118\n",
      "\n",
      "avg / total       0.54      0.54      0.54       258\n",
      "\n"
     ]
    }
   ],
   "source": [
    "predictions = model.predict(X_test)\n",
    "\n",
    "def probs_to_classes(probas):\n",
    "    classes = np.zeros(probas.shape, dtype=np.int)\n",
    "    for i, row in enumerate(probas):\n",
    "        classes[i, np.argmax(row)] = 1\n",
    "    return classes\n",
    "\n",
    "y_pred = probs_to_classes(predictions)\n",
    "\n",
    "print_score(y_test[:, 1], y_pred[:, 1])"
   ]
  }
 ],
 "metadata": {
  "kernelspec": {
   "display_name": "Python 3",
   "language": "python",
   "name": "python3"
  },
  "language_info": {
   "codemirror_mode": {
    "name": "ipython",
    "version": 3
   },
   "file_extension": ".py",
   "mimetype": "text/x-python",
   "name": "python",
   "nbconvert_exporter": "python",
   "pygments_lexer": "ipython3",
   "version": "3.5.4"
  }
 },
 "nbformat": 4,
 "nbformat_minor": 2
}
