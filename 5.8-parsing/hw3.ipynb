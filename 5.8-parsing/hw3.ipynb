{
 "cells": [
  {
   "cell_type": "markdown",
   "metadata": {},
   "source": [
    "# Домашнее задание 3\n",
    "\n",
    "## Сбор данных из интернета и генерация текстов\n",
    "\n",
    "В этом домашнем задании вам предстоит: \n",
    "1. выбрать свой источник структурированных данных (прогноз погоды, курс акций, счет спортивных мероприятий, или что-нибудь еще) \n",
    "2. научиться извлекать данные из с выбранной веб-страницы\n",
    "3. научиться генерировать текст по шаблонам"
   ]
  },
  {
   "cell_type": "code",
   "execution_count": 3,
   "metadata": {},
   "outputs": [
    {
     "data": {
      "text/html": [
       "<script>requirejs.config({paths: { 'plotly': ['https://cdn.plot.ly/plotly-latest.min']},});if(!window.Plotly) {{require(['plotly'],function(plotly) {window.Plotly=plotly;});}}</script>"
      ],
      "text/vnd.plotly.v1+html": [
       "<script>requirejs.config({paths: { 'plotly': ['https://cdn.plot.ly/plotly-latest.min']},});if(!window.Plotly) {{require(['plotly'],function(plotly) {window.Plotly=plotly;});}}</script>"
      ]
     },
     "metadata": {},
     "output_type": "display_data"
    },
    {
     "name": "stdout",
     "output_type": "stream",
     "text": [
      "Populating the interactive namespace from numpy and matplotlib\n"
     ]
    }
   ],
   "source": [
    "# plots\n",
    "from matplotlib import pyplot as plt\n",
    "import seaborn as sns\n",
    "from pylab import rcParams\n",
    "\n",
    "from plotly.offline import init_notebook_mode, iplot\n",
    "import plotly\n",
    "import plotly.graph_objs as go\n",
    "init_notebook_mode(connected=True)\n",
    "\n",
    "%config InlineBackend.figure_format = 'retina'\n",
    "%matplotlib inline\n",
    "%pylab inline\n",
    "%config InlineBackend.figure_format = 'png'\n",
    "rcParams['figure.figsize'] = (16, 6)"
   ]
  },
  {
   "cell_type": "markdown",
   "metadata": {},
   "source": [
    "## Часть 1\n",
    "\n",
    "Выберете источник данных, который вам симпатичен. По умолчанию, предлагаем использовать данные о погоде в Москве: \n",
    "https://www.gismeteo.ru/weather-moscow-4368/. Извлеките из html-кода страницы температуру сегодня, уровень осадков и скорость ветра."
   ]
  },
  {
   "cell_type": "code",
   "execution_count": 4,
   "metadata": {
    "collapsed": true
   },
   "outputs": [],
   "source": [
    "import pandas as pd\n",
    "import numpy as np"
   ]
  },
  {
   "cell_type": "code",
   "execution_count": 68,
   "metadata": {},
   "outputs": [
    {
     "data": {
      "text/html": [
       "<div>\n",
       "<style>\n",
       "    .dataframe thead tr:only-child th {\n",
       "        text-align: right;\n",
       "    }\n",
       "\n",
       "    .dataframe thead th {\n",
       "        text-align: left;\n",
       "    }\n",
       "\n",
       "    .dataframe tbody tr th {\n",
       "        vertical-align: top;\n",
       "    }\n",
       "</style>\n",
       "<table border=\"1\" class=\"dataframe\">\n",
       "  <thead>\n",
       "    <tr style=\"text-align: right;\">\n",
       "      <th></th>\n",
       "      <th>hours</th>\n",
       "      <th>prec</th>\n",
       "      <th>temp</th>\n",
       "      <th>wind_from</th>\n",
       "      <th>wind_to</th>\n",
       "    </tr>\n",
       "  </thead>\n",
       "  <tbody>\n",
       "    <tr>\n",
       "      <th>0</th>\n",
       "      <td>0</td>\n",
       "      <td>0</td>\n",
       "      <td>0</td>\n",
       "      <td>1</td>\n",
       "      <td>1</td>\n",
       "    </tr>\n",
       "    <tr>\n",
       "      <th>1</th>\n",
       "      <td>3</td>\n",
       "      <td>0</td>\n",
       "      <td>0</td>\n",
       "      <td>1</td>\n",
       "      <td>1</td>\n",
       "    </tr>\n",
       "    <tr>\n",
       "      <th>2</th>\n",
       "      <td>6</td>\n",
       "      <td>0</td>\n",
       "      <td>1</td>\n",
       "      <td>1</td>\n",
       "      <td>1</td>\n",
       "    </tr>\n",
       "    <tr>\n",
       "      <th>3</th>\n",
       "      <td>9</td>\n",
       "      <td>0</td>\n",
       "      <td>2</td>\n",
       "      <td>1</td>\n",
       "      <td>1</td>\n",
       "    </tr>\n",
       "    <tr>\n",
       "      <th>4</th>\n",
       "      <td>12</td>\n",
       "      <td>0</td>\n",
       "      <td>2</td>\n",
       "      <td>2</td>\n",
       "      <td>2</td>\n",
       "    </tr>\n",
       "    <tr>\n",
       "      <th>5</th>\n",
       "      <td>15</td>\n",
       "      <td>0</td>\n",
       "      <td>3</td>\n",
       "      <td>2</td>\n",
       "      <td>2</td>\n",
       "    </tr>\n",
       "    <tr>\n",
       "      <th>6</th>\n",
       "      <td>18</td>\n",
       "      <td>0</td>\n",
       "      <td>4</td>\n",
       "      <td>5</td>\n",
       "      <td>10</td>\n",
       "    </tr>\n",
       "    <tr>\n",
       "      <th>7</th>\n",
       "      <td>21</td>\n",
       "      <td>0</td>\n",
       "      <td>4</td>\n",
       "      <td>6</td>\n",
       "      <td>10</td>\n",
       "    </tr>\n",
       "  </tbody>\n",
       "</table>\n",
       "</div>"
      ],
      "text/plain": [
       "   hours  prec  temp  wind_from  wind_to\n",
       "0      0     0     0          1        1\n",
       "1      3     0     0          1        1\n",
       "2      6     0     1          1        1\n",
       "3      9     0     2          1        1\n",
       "4     12     0     2          2        2\n",
       "5     15     0     3          2        2\n",
       "6     18     0     4          5       10\n",
       "7     21     0     4          6       10"
      ]
     },
     "execution_count": 68,
     "metadata": {},
     "output_type": "execute_result"
    }
   ],
   "source": [
    "import urllib.request\n",
    "from scrapy.selector import Selector\n",
    "\n",
    "\n",
    "html = urllib.request.urlopen('https://www.gismeteo.ru/weather-moscow-4368')\n",
    "html = html.read()\n",
    "selector = Selector(text=html)\n",
    "\n",
    "hours = selector.xpath('//div[@data-widget-id=\"forecast\"]//div[@class=\"w_time\"]/span/text()').extract()\n",
    "hours = [int(hour) for hour in hours]\n",
    "\n",
    "temp = selector.xpath('//div[@data-widget-id=\"forecast\"]//div[@class=\"chart chart__temperature\"]/div[@class=\"values\"]/div[@class=\"value\"]/text()').extract()\n",
    "temp = [int(x.strip().replace('−', '-')) for x in temp]\n",
    "\n",
    "wind = selector.xpath('//div[@data-widget-id=\"forecast\"]//div[@class=\"w_wind\"]/div/text()').extract()\n",
    "wind = [list(map(int, x if len(x)>1 else x+x)) for x in list(map(lambda x: x.strip().split('-'), wind))]\n",
    "\n",
    "prec = selector.xpath('//div[@data-widget-id=\"forecast\"]//div[@class=\"widget__item w_precipitation\"]/div/text()').extract()\n",
    "prec = [float(x.strip().replace(',', '.')) for x in prec]\n",
    "\n",
    "if not prec:\n",
    "    prec = [0] * len(hours)\n",
    "\n",
    "results = []\n",
    "\n",
    "for i in range(len(hours)):\n",
    "    results.append({\n",
    "        'hours': hours[i],\n",
    "        'temp' : temp[i],\n",
    "        'prec' : prec[i],\n",
    "        'wind_from' : wind[i][0],\n",
    "        'wind_to' : wind[i][1]\n",
    "    })\n",
    "\n",
    "weather = pd.DataFrame(results)\n",
    "    \n",
    "weather"
   ]
  },
  {
   "cell_type": "markdown",
   "metadata": {},
   "source": [
    "## Часть 2\n",
    "Запрограммируйте шаблон, описывающие температуру, уровень осадков и скорость ветра сегодня. Например,\n",
    "\"Температура сегодня составляет X градусов\", где Х – излеченное выше число. Сгенерируйте таким образом описание погоды сегодня. Учтите, величина X влияет на грамматическое число, использованное в единицах измерения (\"двадцать градусов\", но \"двадцать один градус\"). Используйте бибилиотеку utg или дополнительные функции pymorphy2"
   ]
  },
  {
   "cell_type": "code",
   "execution_count": 79,
   "metadata": {},
   "outputs": [
    {
     "name": "stdout",
     "output_type": "stream",
     "text": [
      "Температура сегодня в 0 часов составит 0 градусов. Скорость ветра 1 метр в секунду\n",
      "Температура сегодня в 3 часа составит 0 градусов. Скорость ветра 1 метр в секунду\n",
      "Температура сегодня в 6 часов составит 1 градус. Скорость ветра 1 метр в секунду\n",
      "Температура сегодня в 9 часов составит 2 градуса. Скорость ветра 1 метр в секунду\n",
      "Температура сегодня в 12 часов составит 2 градуса. Скорость ветра 2 метра в секунду\n",
      "Температура сегодня в 15 часов составит 3 градуса. Скорость ветра 2 метра в секунду\n",
      "Температура сегодня в 18 часов составит 4 градуса. Скорость ветра 5-10 метров в секунду\n",
      "Температура сегодня в 21 час составит 4 градуса. Скорость ветра 6-10 метров в секунду\n"
     ]
    }
   ],
   "source": [
    "import pymorphy2\n",
    "morph = pymorphy2.MorphAnalyzer()\n",
    "\n",
    "def morpher(s, d):\n",
    "    w = morph.parse(s)[0]\n",
    "    return w.make_agree_with_number(d).word\n",
    "\n",
    "for i, row in weather.iterrows():\n",
    "    print('Температура сегодня в {hours} {hours_w} составит {temp} {degree_w}. Скорость ветра {speed} {metr_w} в секунду'\n",
    "          .format(hours=row['hours'],\n",
    "                  hours_w=morpher('час', row['hours']),\n",
    "                  temp=row['temp'],\n",
    "                  degree_w=morpher('градус', row['temp']),\n",
    "                  speed=row['wind_to'] if row['wind_from'] == row['wind_to'] else '%s-%s' % (row['wind_from'], row['wind_to']),\n",
    "                  metr_w=morpher('метр', row['wind_to'])))"
   ]
  },
  {
   "cell_type": "markdown",
   "metadata": {
    "collapsed": true
   },
   "source": [
    "## Часть 3 (необязательная)\n",
    "Соберите данные не только за сегодняшний, но и за вчерашний день, и напишите шаблоны, которые сравнивают вчерашние и сегодняшние показатели (например, \"сегодня похолодало на Х градусов по сравнению со вчера\")."
   ]
  }
 ],
 "metadata": {
  "kernelspec": {
   "display_name": "Python 3",
   "language": "python",
   "name": "python3"
  },
  "language_info": {
   "codemirror_mode": {
    "name": "ipython",
    "version": 3
   },
   "file_extension": ".py",
   "mimetype": "text/x-python",
   "name": "python",
   "nbconvert_exporter": "python",
   "pygments_lexer": "ipython3",
   "version": "3.5.4"
  }
 },
 "nbformat": 4,
 "nbformat_minor": 2
}
